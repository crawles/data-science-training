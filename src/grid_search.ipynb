{
 "cells": [
  {
   "cell_type": "code",
   "execution_count": 98,
   "metadata": {
    "collapsed": false,
    "deletable": true,
    "editable": true
   },
   "outputs": [
    {
     "name": "stdout",
     "output_type": "stream",
     "text": [
      "Query started at 06:19:58 PM EDT; Query executed in 0.00 m"
     ]
    },
    {
     "data": {
      "text/plain": [
       "<sql_magic.exceptions.EmptyResult at 0x11a6b1d90>"
      ]
     },
     "execution_count": 98,
     "metadata": {},
     "output_type": "execute_result"
    }
   ],
   "source": [
    "%run db.ipynb\n",
    "from plpython_utils import plpython\n",
    "schema = 'ds_training_wnv'\n",
    "%read_sql SET search_path to {schema}"
   ]
  },
  {
   "cell_type": "markdown",
   "metadata": {
    "deletable": true,
    "editable": true
   },
   "source": [
    "# Random forest"
   ]
  },
  {
   "cell_type": "markdown",
   "metadata": {
    "deletable": true,
    "editable": true
   },
   "source": [
    "## Create parameters table"
   ]
  },
  {
   "cell_type": "code",
   "execution_count": 99,
   "metadata": {
    "collapsed": true,
    "deletable": true,
    "editable": true
   },
   "outputs": [],
   "source": [
    "#TODO: trap dummy variable\n",
    "features = ['id', 'longitude','latitude', 'year', 'month', 'day', 'day_of_year',\\\n",
    " 'species_CULEX ERRATICUS', 'species_CULEX PIPIENS', 'species_CULEX PIPIENS/RESTUANS',\\\n",
    " 'species_CULEX RESTUANS', 'species_CULEX SALINARIUS', 'species_CULEX TARSALIS',\\\n",
    " 'species_CULEX TERRITANS', 'avg', 'preciptotal7', 'tmin7', 'tavg7', 'tmax7']\n",
    "feature_formatted = [\"'{}'\".format(v) for v in features]  # select variables with spaces\n",
    "feature_str = ','.join(feature_formatted)\n",
    "n_features = len(features) - 1"
   ]
  },
  {
   "cell_type": "code",
   "execution_count": 100,
   "metadata": {
    "collapsed": false,
    "deletable": true,
    "editable": true
   },
   "outputs": [
    {
     "name": "stdout",
     "output_type": "stream",
     "text": [
      "Query started at 06:19:59 PM EDT; Query executed in 0.00 m"
     ]
    },
    {
     "data": {
      "text/plain": [
       "<sql_magic.exceptions.EmptyResult at 0x114bc4b10>"
      ]
     },
     "execution_count": 100,
     "metadata": {},
     "output_type": "execute_result"
    }
   ],
   "source": [
    "%%read_sql\n",
    "DROP TABLE IF EXISTS hyperparameters;\n",
    "CREATE TABLE hyperparameters\n",
    "AS\n",
    "SELECT row_number() OVER () AS model_id, * \n",
    "FROM (SELECT generate_series(10,201,200) AS num_trees) a \n",
    "      CROSS JOIN (SELECT generate_series(1,{n_features}, 12) AS max_depth) b\n",
    "      CROSS JOIN (SELECT generate_series(1,{n_features}, 12) AS max_features) c\n",
    "-- DISTRIBUTE BY model_id;"
   ]
  },
  {
   "cell_type": "markdown",
   "metadata": {},
   "source": [
    "### Count the number of hyperparameters"
   ]
  },
  {
   "cell_type": "code",
   "execution_count": 101,
   "metadata": {
    "collapsed": false,
    "deletable": true,
    "editable": true
   },
   "outputs": [
    {
     "name": "stdout",
     "output_type": "stream",
     "text": [
      "Query started at 06:19:59 PM EDT; Query executed in 0.00 m"
     ]
    },
    {
     "data": {
      "text/html": [
       "<div>\n",
       "<table border=\"1\" class=\"dataframe\">\n",
       "  <thead>\n",
       "    <tr style=\"text-align: right;\">\n",
       "      <th></th>\n",
       "      <th>count</th>\n",
       "    </tr>\n",
       "  </thead>\n",
       "  <tbody>\n",
       "    <tr>\n",
       "      <th>0</th>\n",
       "      <td>4</td>\n",
       "    </tr>\n",
       "  </tbody>\n",
       "</table>\n",
       "</div>"
      ],
      "text/plain": [
       "   count\n",
       "0      4"
      ]
     },
     "execution_count": 101,
     "metadata": {},
     "output_type": "execute_result"
    }
   ],
   "source": [
    "%read_sql SELECT COUNT(*) FROM hyperparameters"
   ]
  },
  {
   "cell_type": "markdown",
   "metadata": {
    "deletable": true,
    "editable": true
   },
   "source": [
    "# Evaluate multiple parameters"
   ]
  },
  {
   "cell_type": "code",
   "execution_count": 119,
   "metadata": {
    "collapsed": false,
    "deletable": true,
    "editable": true
   },
   "outputs": [
    {
     "name": "stdout",
     "output_type": "stream",
     "text": [
      "The autoreload extension is already loaded. To reload it, use:\n",
      "  %reload_ext autoreload\n",
      "Successfully created function: ds_training_wnv.rf_train_tune(\"array1d\" float[], \"column_names\"  text[], \"dep1d\"  int[], \"id_col_name\"  text, \"num_trees\"  int, \"max_depth\"  int, \"max_features\"  int)\n"
     ]
    },
    {
     "ename": "DatabaseError",
     "evalue": "Execution failed on sql '\nDROP FUNCTION IF EXISTS ds_training_wnv.rf_predict (\"array1d\" float[], \"column_names\"  text[], \"model_pkl\"  text, \"id_col_name\"  text);\nCREATE OR REPLACE FUNCTION ds_training_wnv.rf_predict (\"array1d\" float[], \"column_names\"  text[], \"model_pkl\"  text, \"id_col_name\"  text)\nRETURNS setof prediction_type\nAS $$\n\n    '''float[], text[], text, text'''\n    \n    import cPickle\n    \n    import numpy as np\n    import pandas as pd\n    from sklearn.ensemble import RandomForestClassifier\n    from sklearn.metrics import roc_auc_score\n    \n    cl = cPickle.loads(model_pkl)\n    \n    num_rows = len(array1d)/len(column_names) \n    array2d = np.reshape(array1d, (num_rows, len(column_names)))\n    df = pd.DataFrame(array2d, columns = column_names)\n    X = df.drop(id_col_name, axis = 1)\n    ids = df[id_col_name].astype(int)\n    \n    probs = cl.predict_proba(X)[:,1]\n    \n    return zip(ids, probs)\n\n$$ LANGUAGE plpythonu;\n        ': type \"prediction_type\" does not exist\n",
     "output_type": "error",
     "traceback": [
      "\u001b[0;31m---------------------------------------------------------------------------\u001b[0m",
      "\u001b[0;31mDatabaseError\u001b[0m                             Traceback (most recent call last)",
      "\u001b[0;32m<ipython-input-119-c4e53f3ecaf2>\u001b[0m in \u001b[0;36m<module>\u001b[0;34m()\u001b[0m\n\u001b[1;32m     39\u001b[0m     \u001b[0;32mreturn\u001b[0m \u001b[0mroc_auc_score\u001b[0m\u001b[0;34m(\u001b[0m\u001b[0my_test\u001b[0m\u001b[0;34m,\u001b[0m \u001b[0my_prob\u001b[0m\u001b[0;34m)\u001b[0m\u001b[0;34m\u001b[0m\u001b[0m\n\u001b[1;32m     40\u001b[0m \u001b[0;34m\u001b[0m\u001b[0m\n\u001b[0;32m---> 41\u001b[0;31m \u001b[0;34m@\u001b[0m\u001b[0mplpython\u001b[0m\u001b[0;34m(\u001b[0m\u001b[0mconn\u001b[0m\u001b[0;34m,\u001b[0m \u001b[0;34m'ds_training_wnv'\u001b[0m\u001b[0;34m,\u001b[0m \u001b[0;34m'setof prediction_type'\u001b[0m\u001b[0;34m)\u001b[0m\u001b[0;34m\u001b[0m\u001b[0m\n\u001b[0m\u001b[1;32m     42\u001b[0m \u001b[0;32mdef\u001b[0m \u001b[0mrf_predict\u001b[0m\u001b[0;34m(\u001b[0m\u001b[0marray1d\u001b[0m\u001b[0;34m,\u001b[0m \u001b[0mcolumn_names\u001b[0m\u001b[0;34m,\u001b[0m \u001b[0mmodel_pkl\u001b[0m\u001b[0;34m,\u001b[0m \u001b[0mid_col_name\u001b[0m\u001b[0;34m)\u001b[0m\u001b[0;34m:\u001b[0m\u001b[0;34m\u001b[0m\u001b[0m\n\u001b[1;32m     43\u001b[0m     \u001b[0;34m'''float[], text[], text, text'''\u001b[0m\u001b[0;34m\u001b[0m\u001b[0m\n",
      "\u001b[0;32m/Users/crawles/GoogleDrive/projects/data-science-training/src/plpython_utils.pyc\u001b[0m in \u001b[0;36mrepl\u001b[0;34m(f)\u001b[0m\n\u001b[1;32m     20\u001b[0m         \"\"\"\n\u001b[1;32m     21\u001b[0m         \u001b[0;32mdef\u001b[0m \u001b[0mrepl\u001b[0m\u001b[0;34m(\u001b[0m\u001b[0mf\u001b[0m\u001b[0;34m)\u001b[0m\u001b[0;34m:\u001b[0m\u001b[0;34m\u001b[0m\u001b[0m\n\u001b[0;32m---> 22\u001b[0;31m             \u001b[0;32mreturn\u001b[0m \u001b[0mdec\u001b[0m\u001b[0;34m(\u001b[0m\u001b[0mf\u001b[0m\u001b[0;34m,\u001b[0m \u001b[0;34m*\u001b[0m\u001b[0margs\u001b[0m\u001b[0;34m,\u001b[0m \u001b[0;34m**\u001b[0m\u001b[0mkwargs\u001b[0m\u001b[0;34m)\u001b[0m\u001b[0;34m\u001b[0m\u001b[0m\n\u001b[0m\u001b[1;32m     23\u001b[0m         \u001b[0;32mreturn\u001b[0m \u001b[0mrepl\u001b[0m\u001b[0;34m\u001b[0m\u001b[0m\n\u001b[1;32m     24\u001b[0m     \u001b[0;32mreturn\u001b[0m \u001b[0mlayer\u001b[0m\u001b[0;34m\u001b[0m\u001b[0m\n",
      "\u001b[0;32m/Users/crawles/GoogleDrive/projects/data-science-training/src/plpython_utils.pyc\u001b[0m in \u001b[0;36mplpython\u001b[0;34m(f, conn, schema, return_type)\u001b[0m\n\u001b[1;32m     57\u001b[0m         \u001b[0mpsql\u001b[0m\u001b[0;34m.\u001b[0m\u001b[0mexecute\u001b[0m\u001b[0;34m(\u001b[0m\u001b[0msql\u001b[0m\u001b[0;34m,\u001b[0m \u001b[0mconn\u001b[0m\u001b[0;34m)\u001b[0m\u001b[0;34m\u001b[0m\u001b[0m\n\u001b[1;32m     58\u001b[0m         \u001b[0;32mprint\u001b[0m \u001b[0;34m\"Successfully created function: {schema}.{fxn_name}({arg_def})\"\u001b[0m\u001b[0;34m.\u001b[0m\u001b[0mformat\u001b[0m\u001b[0;34m(\u001b[0m\u001b[0;34m**\u001b[0m\u001b[0mparams\u001b[0m\u001b[0;34m)\u001b[0m\u001b[0;34m\u001b[0m\u001b[0m\n\u001b[0;32m---> 59\u001b[0;31m     \u001b[0;32mreturn\u001b[0m \u001b[0maux\u001b[0m\u001b[0;34m(\u001b[0m\u001b[0mf\u001b[0m\u001b[0;34m,\u001b[0m \u001b[0mconn\u001b[0m\u001b[0;34m,\u001b[0m \u001b[0mschema\u001b[0m\u001b[0;34m,\u001b[0m \u001b[0mreturn_type\u001b[0m\u001b[0;34m,\u001b[0m \u001b[0marg_names\u001b[0m\u001b[0;34m)\u001b[0m\u001b[0;34m\u001b[0m\u001b[0m\n\u001b[0m\u001b[1;32m     60\u001b[0m \u001b[0;34m\u001b[0m\u001b[0m\n\u001b[1;32m     61\u001b[0m \u001b[0;32mdef\u001b[0m \u001b[0mget_fxn_def\u001b[0m\u001b[0;34m(\u001b[0m\u001b[0mf\u001b[0m\u001b[0;34m)\u001b[0m\u001b[0;34m:\u001b[0m\u001b[0;34m\u001b[0m\u001b[0m\n",
      "\u001b[0;32m/Users/crawles/GoogleDrive/projects/data-science-training/src/plpython_utils.pyc\u001b[0m in \u001b[0;36maux\u001b[0;34m(f, conn, schema, return_dtype, arg_names)\u001b[0m\n\u001b[1;32m     55\u001b[0m \u001b[0;31m$\u001b[0m\u001b[0;31m$\u001b[0m \u001b[0mLANGUAGE\u001b[0m \u001b[0mplpythonu\u001b[0m\u001b[0;34m;\u001b[0m\u001b[0;34m\u001b[0m\u001b[0m\n\u001b[1;32m     56\u001b[0m         '''.format(**params)\n\u001b[0;32m---> 57\u001b[0;31m         \u001b[0mpsql\u001b[0m\u001b[0;34m.\u001b[0m\u001b[0mexecute\u001b[0m\u001b[0;34m(\u001b[0m\u001b[0msql\u001b[0m\u001b[0;34m,\u001b[0m \u001b[0mconn\u001b[0m\u001b[0;34m)\u001b[0m\u001b[0;34m\u001b[0m\u001b[0m\n\u001b[0m\u001b[1;32m     58\u001b[0m         \u001b[0;32mprint\u001b[0m \u001b[0;34m\"Successfully created function: {schema}.{fxn_name}({arg_def})\"\u001b[0m\u001b[0;34m.\u001b[0m\u001b[0mformat\u001b[0m\u001b[0;34m(\u001b[0m\u001b[0;34m**\u001b[0m\u001b[0mparams\u001b[0m\u001b[0;34m)\u001b[0m\u001b[0;34m\u001b[0m\u001b[0m\n\u001b[1;32m     59\u001b[0m     \u001b[0;32mreturn\u001b[0m \u001b[0maux\u001b[0m\u001b[0;34m(\u001b[0m\u001b[0mf\u001b[0m\u001b[0;34m,\u001b[0m \u001b[0mconn\u001b[0m\u001b[0;34m,\u001b[0m \u001b[0mschema\u001b[0m\u001b[0;34m,\u001b[0m \u001b[0mreturn_type\u001b[0m\u001b[0;34m,\u001b[0m \u001b[0marg_names\u001b[0m\u001b[0;34m)\u001b[0m\u001b[0;34m\u001b[0m\u001b[0m\n",
      "\u001b[0;32m/Users/crawles/anaconda/lib/python2.7/site-packages/pandas/io/sql.pyc\u001b[0m in \u001b[0;36mexecute\u001b[0;34m(sql, con, cur, params)\u001b[0m\n\u001b[1;32m    170\u001b[0m         \u001b[0mpandas_sql\u001b[0m \u001b[0;34m=\u001b[0m \u001b[0mpandasSQL_builder\u001b[0m\u001b[0;34m(\u001b[0m\u001b[0mcur\u001b[0m\u001b[0;34m,\u001b[0m \u001b[0mis_cursor\u001b[0m\u001b[0;34m=\u001b[0m\u001b[0mTrue\u001b[0m\u001b[0;34m)\u001b[0m\u001b[0;34m\u001b[0m\u001b[0m\n\u001b[1;32m    171\u001b[0m     \u001b[0margs\u001b[0m \u001b[0;34m=\u001b[0m \u001b[0m_convert_params\u001b[0m\u001b[0;34m(\u001b[0m\u001b[0msql\u001b[0m\u001b[0;34m,\u001b[0m \u001b[0mparams\u001b[0m\u001b[0;34m)\u001b[0m\u001b[0;34m\u001b[0m\u001b[0m\n\u001b[0;32m--> 172\u001b[0;31m     \u001b[0;32mreturn\u001b[0m \u001b[0mpandas_sql\u001b[0m\u001b[0;34m.\u001b[0m\u001b[0mexecute\u001b[0m\u001b[0;34m(\u001b[0m\u001b[0;34m*\u001b[0m\u001b[0margs\u001b[0m\u001b[0;34m)\u001b[0m\u001b[0;34m\u001b[0m\u001b[0m\n\u001b[0m\u001b[1;32m    173\u001b[0m \u001b[0;34m\u001b[0m\u001b[0m\n\u001b[1;32m    174\u001b[0m \u001b[0;34m\u001b[0m\u001b[0m\n",
      "\u001b[0;32m/Users/crawles/anaconda/lib/python2.7/site-packages/pandas/io/sql.pyc\u001b[0m in \u001b[0;36mexecute\u001b[0;34m(self, *args, **kwargs)\u001b[0m\n\u001b[1;32m   1574\u001b[0m             ex = DatabaseError(\n\u001b[1;32m   1575\u001b[0m                 \"Execution failed on sql '%s': %s\" % (args[0], exc))\n\u001b[0;32m-> 1576\u001b[0;31m             \u001b[0mraise_with_traceback\u001b[0m\u001b[0;34m(\u001b[0m\u001b[0mex\u001b[0m\u001b[0;34m)\u001b[0m\u001b[0;34m\u001b[0m\u001b[0m\n\u001b[0m\u001b[1;32m   1577\u001b[0m \u001b[0;34m\u001b[0m\u001b[0m\n\u001b[1;32m   1578\u001b[0m     \u001b[0;34m@\u001b[0m\u001b[0mstaticmethod\u001b[0m\u001b[0;34m\u001b[0m\u001b[0m\n",
      "\u001b[0;32m/Users/crawles/anaconda/lib/python2.7/site-packages/pandas/io/sql.pyc\u001b[0m in \u001b[0;36mexecute\u001b[0;34m(self, *args, **kwargs)\u001b[0m\n\u001b[1;32m   1562\u001b[0m                 \u001b[0mcur\u001b[0m\u001b[0;34m.\u001b[0m\u001b[0mexecute\u001b[0m\u001b[0;34m(\u001b[0m\u001b[0;34m*\u001b[0m\u001b[0margs\u001b[0m\u001b[0;34m,\u001b[0m \u001b[0;34m**\u001b[0m\u001b[0mkwargs\u001b[0m\u001b[0;34m)\u001b[0m\u001b[0;34m\u001b[0m\u001b[0m\n\u001b[1;32m   1563\u001b[0m             \u001b[0;32melse\u001b[0m\u001b[0;34m:\u001b[0m\u001b[0;34m\u001b[0m\u001b[0m\n\u001b[0;32m-> 1564\u001b[0;31m                 \u001b[0mcur\u001b[0m\u001b[0;34m.\u001b[0m\u001b[0mexecute\u001b[0m\u001b[0;34m(\u001b[0m\u001b[0;34m*\u001b[0m\u001b[0margs\u001b[0m\u001b[0;34m)\u001b[0m\u001b[0;34m\u001b[0m\u001b[0m\n\u001b[0m\u001b[1;32m   1565\u001b[0m             \u001b[0;32mreturn\u001b[0m \u001b[0mcur\u001b[0m\u001b[0;34m\u001b[0m\u001b[0m\n\u001b[1;32m   1566\u001b[0m         \u001b[0;32mexcept\u001b[0m \u001b[0mException\u001b[0m \u001b[0;32mas\u001b[0m \u001b[0mexc\u001b[0m\u001b[0;34m:\u001b[0m\u001b[0;34m\u001b[0m\u001b[0m\n",
      "\u001b[0;31mDatabaseError\u001b[0m: Execution failed on sql '\nDROP FUNCTION IF EXISTS ds_training_wnv.rf_predict (\"array1d\" float[], \"column_names\"  text[], \"model_pkl\"  text, \"id_col_name\"  text);\nCREATE OR REPLACE FUNCTION ds_training_wnv.rf_predict (\"array1d\" float[], \"column_names\"  text[], \"model_pkl\"  text, \"id_col_name\"  text)\nRETURNS setof prediction_type\nAS $$\n\n    '''float[], text[], text, text'''\n    \n    import cPickle\n    \n    import numpy as np\n    import pandas as pd\n    from sklearn.ensemble import RandomForestClassifier\n    from sklearn.metrics import roc_auc_score\n    \n    cl = cPickle.loads(model_pkl)\n    \n    num_rows = len(array1d)/len(column_names) \n    array2d = np.reshape(array1d, (num_rows, len(column_names)))\n    df = pd.DataFrame(array2d, columns = column_names)\n    X = df.drop(id_col_name, axis = 1)\n    ids = df[id_col_name].astype(int)\n    \n    probs = cl.predict_proba(X)[:,1]\n    \n    return zip(ids, probs)\n\n$$ LANGUAGE plpythonu;\n        ': type \"prediction_type\" does not exist\n"
     ]
    }
   ],
   "source": [
    "%load_ext autoreload\n",
    "%autoreload 2\n",
    "from plpython_utils import plpython\n",
    "\n",
    "# hello world\n",
    "@plpython(conn, schema, 'text')\n",
    "def rf_train_tune(array1d,\n",
    "                  column_names, # hello\n",
    "                  dep1d,\n",
    "                  id_col_name,\n",
    "                  num_trees,\n",
    "                  max_depth,\n",
    "                  max_features):\n",
    "    '''float[], text[], int[], text, int, int, int'''\n",
    "    import cPickle\n",
    "    \n",
    "    import numpy as np\n",
    "    import pandas as pd\n",
    "    \n",
    "    from sklearn.cross_validation import train_test_split\n",
    "    from sklearn.ensemble import RandomForestClassifier\n",
    "    from sklearn.metrics import roc_auc_score\n",
    "    \n",
    "    num_rows = len(array1d)/len(column_names) \n",
    "    array2d = np.reshape(array1d, (num_rows, len(column_names)))\n",
    "    X = pd.DataFrame(array2d, columns = column_names)\n",
    "    X = X.drop(id_col_name, axis = 1)\n",
    "    y = dep1d\n",
    "    X_train, X_test, y_train, y_test = train_test_split(X,y,test_size=0.2)\n",
    "    \n",
    "    cl = RandomForestClassifier(n_jobs=-1,\n",
    "                                n_estimators=num_trees,\n",
    "                                max_depth=max_depth,\n",
    "                                max_features=max_features)\n",
    "    cl.fit(X_train,y_train)\n",
    "    return cPickle.dumps(cl)\n",
    "    \n",
    "    y_prob = cl.predict_proba(X_test)[:,1]\n",
    "    return roc_auc_score(y_test, y_prob)\n",
    "\n",
    "@plpython(conn, 'ds_training_wnv', 'setof prediction_type')\n",
    "def rf_predict(array1d, column_names, model_pkl, id_col_name):\n",
    "    '''float[], text[], text, text'''\n",
    "    \n",
    "    import cPickle\n",
    "    \n",
    "    import numpy as np\n",
    "    import pandas as pd\n",
    "    from sklearn.ensemble import RandomForestClassifier\n",
    "    from sklearn.metrics import roc_auc_score\n",
    "    \n",
    "    cl = cPickle.loads(model_pkl)\n",
    "    \n",
    "    num_rows = len(array1d)/len(column_names) \n",
    "    array2d = np.reshape(array1d, (num_rows, len(column_names)))\n",
    "    df = pd.DataFrame(array2d, columns = column_names)\n",
    "    X = df.drop(id_col_name, axis = 1)\n",
    "    ids = df[id_col_name].astype(int)\n",
    "    \n",
    "    probs = cl.predict_proba(X)[:,1]\n",
    "    \n",
    "    return zip(ids, probs)"
   ]
  },
  {
   "cell_type": "code",
   "execution_count": 103,
   "metadata": {
    "collapsed": false
   },
   "outputs": [
    {
     "name": "stdout",
     "output_type": "stream",
     "text": [
      "Query started at 06:19:59 PM EDT; Query executed in 0.00 m"
     ]
    },
    {
     "data": {
      "text/html": [
       "<div>\n",
       "<table border=\"1\" class=\"dataframe\">\n",
       "  <thead>\n",
       "    <tr style=\"text-align: right;\">\n",
       "      <th></th>\n",
       "      <th>version</th>\n",
       "    </tr>\n",
       "  </thead>\n",
       "  <tbody>\n",
       "    <tr>\n",
       "      <th>0</th>\n",
       "      <td>PostgreSQL 9.6.1 on x86_64-apple-darwin14.5.0,...</td>\n",
       "    </tr>\n",
       "  </tbody>\n",
       "</table>\n",
       "</div>"
      ],
      "text/plain": [
       "                                             version\n",
       "0  PostgreSQL 9.6.1 on x86_64-apple-darwin14.5.0,..."
      ]
     },
     "execution_count": 103,
     "metadata": {},
     "output_type": "execute_result"
    }
   ],
   "source": [
    "%%read_sql\n",
    "SELECT version()"
   ]
  },
  {
   "cell_type": "code",
   "execution_count": 120,
   "metadata": {
    "collapsed": true
   },
   "outputs": [],
   "source": [
    "conn.commit()"
   ]
  },
  {
   "cell_type": "code",
   "execution_count": 121,
   "metadata": {
    "collapsed": false
   },
   "outputs": [
    {
     "name": "stdout",
     "output_type": "stream",
     "text": [
      "Query started at 06:21:24 PM EDT; Query executed in 0.00 mQuery started at 06:21:24 PM EDT"
     ]
    },
    {
     "ename": "DatabaseError",
     "evalue": "Execution failed on sql 'CREATE TYPE prediction_type AS (\n    id int,\n    score float8\n);': type \"prediction_type\" already exists\n",
     "output_type": "error",
     "traceback": [
      "\u001b[0;31m---------------------------------------------------------------------------\u001b[0m",
      "\u001b[0;31mDatabaseError\u001b[0m                             Traceback (most recent call last)",
      "\u001b[0;32m<ipython-input-121-f8826b41f855>\u001b[0m in \u001b[0;36m<module>\u001b[0;34m()\u001b[0m\n\u001b[0;32m----> 1\u001b[0;31m \u001b[0mget_ipython\u001b[0m\u001b[0;34m(\u001b[0m\u001b[0;34m)\u001b[0m\u001b[0;34m.\u001b[0m\u001b[0mrun_cell_magic\u001b[0m\u001b[0;34m(\u001b[0m\u001b[0;34mu'read_sql'\u001b[0m\u001b[0;34m,\u001b[0m \u001b[0;34mu''\u001b[0m\u001b[0;34m,\u001b[0m \u001b[0;34mu'-- return type for modeling\\nDROP TYPE IF EXISTS wnv_training.prediction_type CASCADE;\\nCREATE TYPE prediction_type AS (\\n    id int,\\n    score float8\\n);'\u001b[0m\u001b[0;34m)\u001b[0m\u001b[0;34m\u001b[0m\u001b[0m\n\u001b[0m",
      "\u001b[0;32m/Users/crawles/anaconda/lib/python2.7/site-packages/IPython/core/interactiveshell.pyc\u001b[0m in \u001b[0;36mrun_cell_magic\u001b[0;34m(self, magic_name, line, cell)\u001b[0m\n\u001b[1;32m   2118\u001b[0m             \u001b[0mmagic_arg_s\u001b[0m \u001b[0;34m=\u001b[0m \u001b[0mself\u001b[0m\u001b[0;34m.\u001b[0m\u001b[0mvar_expand\u001b[0m\u001b[0;34m(\u001b[0m\u001b[0mline\u001b[0m\u001b[0;34m,\u001b[0m \u001b[0mstack_depth\u001b[0m\u001b[0;34m)\u001b[0m\u001b[0;34m\u001b[0m\u001b[0m\n\u001b[1;32m   2119\u001b[0m             \u001b[0;32mwith\u001b[0m \u001b[0mself\u001b[0m\u001b[0;34m.\u001b[0m\u001b[0mbuiltin_trap\u001b[0m\u001b[0;34m:\u001b[0m\u001b[0;34m\u001b[0m\u001b[0m\n\u001b[0;32m-> 2120\u001b[0;31m                 \u001b[0mresult\u001b[0m \u001b[0;34m=\u001b[0m \u001b[0mfn\u001b[0m\u001b[0;34m(\u001b[0m\u001b[0mmagic_arg_s\u001b[0m\u001b[0;34m,\u001b[0m \u001b[0mcell\u001b[0m\u001b[0;34m)\u001b[0m\u001b[0;34m\u001b[0m\u001b[0m\n\u001b[0m\u001b[1;32m   2121\u001b[0m             \u001b[0;32mreturn\u001b[0m \u001b[0mresult\u001b[0m\u001b[0;34m\u001b[0m\u001b[0m\n\u001b[1;32m   2122\u001b[0m \u001b[0;34m\u001b[0m\u001b[0m\n",
      "\u001b[0;32m<decorator-gen-126>\u001b[0m in \u001b[0;36mread_sql\u001b[0;34m(self, line, cell, local_ns)\u001b[0m\n",
      "\u001b[0;32m/Users/crawles/anaconda/lib/python2.7/site-packages/IPython/core/magic.pyc\u001b[0m in \u001b[0;36m<lambda>\u001b[0;34m(f, *a, **k)\u001b[0m\n\u001b[1;32m    191\u001b[0m     \u001b[0;31m# but it's overkill for just that one bit of state.\u001b[0m\u001b[0;34m\u001b[0m\u001b[0;34m\u001b[0m\u001b[0m\n\u001b[1;32m    192\u001b[0m     \u001b[0;32mdef\u001b[0m \u001b[0mmagic_deco\u001b[0m\u001b[0;34m(\u001b[0m\u001b[0marg\u001b[0m\u001b[0;34m)\u001b[0m\u001b[0;34m:\u001b[0m\u001b[0;34m\u001b[0m\u001b[0m\n\u001b[0;32m--> 193\u001b[0;31m         \u001b[0mcall\u001b[0m \u001b[0;34m=\u001b[0m \u001b[0;32mlambda\u001b[0m \u001b[0mf\u001b[0m\u001b[0;34m,\u001b[0m \u001b[0;34m*\u001b[0m\u001b[0ma\u001b[0m\u001b[0;34m,\u001b[0m \u001b[0;34m**\u001b[0m\u001b[0mk\u001b[0m\u001b[0;34m:\u001b[0m \u001b[0mf\u001b[0m\u001b[0;34m(\u001b[0m\u001b[0;34m*\u001b[0m\u001b[0ma\u001b[0m\u001b[0;34m,\u001b[0m \u001b[0;34m**\u001b[0m\u001b[0mk\u001b[0m\u001b[0;34m)\u001b[0m\u001b[0;34m\u001b[0m\u001b[0m\n\u001b[0m\u001b[1;32m    194\u001b[0m \u001b[0;34m\u001b[0m\u001b[0m\n\u001b[1;32m    195\u001b[0m         \u001b[0;32mif\u001b[0m \u001b[0mcallable\u001b[0m\u001b[0;34m(\u001b[0m\u001b[0marg\u001b[0m\u001b[0;34m)\u001b[0m\u001b[0;34m:\u001b[0m\u001b[0;34m\u001b[0m\u001b[0m\n",
      "\u001b[0;32m/Users/crawles/anaconda/lib/python2.7/site-packages/sql_magic/sql_magic.pyc\u001b[0m in \u001b[0;36mread_sql\u001b[0;34m(self, line, cell, local_ns)\u001b[0m\n\u001b[1;32m    141\u001b[0m             \u001b[0mt\u001b[0m\u001b[0;34m.\u001b[0m\u001b[0mstart\u001b[0m\u001b[0;34m(\u001b[0m\u001b[0;34m)\u001b[0m\u001b[0;34m\u001b[0m\u001b[0m\n\u001b[1;32m    142\u001b[0m         \u001b[0;32melse\u001b[0m\u001b[0;34m:\u001b[0m\u001b[0;34m\u001b[0m\u001b[0m\n\u001b[0;32m--> 143\u001b[0;31m             \u001b[0mresult\u001b[0m \u001b[0;34m=\u001b[0m \u001b[0mself\u001b[0m\u001b[0;34m.\u001b[0m\u001b[0mconn\u001b[0m\u001b[0;34m.\u001b[0m\u001b[0mexecute_sqls\u001b[0m\u001b[0;34m(\u001b[0m\u001b[0mstatements\u001b[0m\u001b[0;34m,\u001b[0m \u001b[0moptions\u001b[0m\u001b[0;34m)\u001b[0m\u001b[0;34m\u001b[0m\u001b[0m\n\u001b[0m\u001b[1;32m    144\u001b[0m             \u001b[0;32mif\u001b[0m \u001b[0moptions\u001b[0m\u001b[0;34m[\u001b[0m\u001b[0;34m'display'\u001b[0m\u001b[0;34m]\u001b[0m\u001b[0;34m:\u001b[0m\u001b[0;34m\u001b[0m\u001b[0m\n\u001b[1;32m    145\u001b[0m                 \u001b[0;32mreturn\u001b[0m \u001b[0mresult\u001b[0m\u001b[0;34m\u001b[0m\u001b[0m\n",
      "\u001b[0;32m/Users/crawles/anaconda/lib/python2.7/site-packages/sql_magic/connection.pyc\u001b[0m in \u001b[0;36mexecute_sqls\u001b[0;34m(self, sqls, options)\u001b[0m\n\u001b[1;32m    144\u001b[0m         \u001b[0mr\u001b[0m \u001b[0;34m=\u001b[0m \u001b[0mNone\u001b[0m\u001b[0;34m\u001b[0m\u001b[0m\n\u001b[1;32m    145\u001b[0m         \u001b[0;32mfor\u001b[0m \u001b[0mi\u001b[0m\u001b[0;34m,\u001b[0m \u001b[0ms\u001b[0m \u001b[0;32min\u001b[0m \u001b[0menumerate\u001b[0m\u001b[0;34m(\u001b[0m\u001b[0msqls\u001b[0m\u001b[0;34m,\u001b[0m \u001b[0mstart\u001b[0m\u001b[0;34m=\u001b[0m\u001b[0;36m1\u001b[0m\u001b[0;34m)\u001b[0m\u001b[0;34m:\u001b[0m\u001b[0;34m\u001b[0m\u001b[0m\n\u001b[0;32m--> 146\u001b[0;31m             \u001b[0mr\u001b[0m \u001b[0;34m=\u001b[0m \u001b[0mself\u001b[0m\u001b[0;34m.\u001b[0m\u001b[0m_read_sql_engine\u001b[0m\u001b[0;34m(\u001b[0m\u001b[0ms\u001b[0m\u001b[0;34m,\u001b[0m \u001b[0moptions\u001b[0m\u001b[0;34m)\u001b[0m\u001b[0;34m\u001b[0m\u001b[0m\n\u001b[0m\u001b[1;32m    147\u001b[0m         \u001b[0;32mreturn\u001b[0m \u001b[0mr\u001b[0m  \u001b[0;31m# return last result\u001b[0m\u001b[0;34m\u001b[0m\u001b[0m\n",
      "\u001b[0;32m/Users/crawles/anaconda/lib/python2.7/site-packages/sql_magic/connection.pyc\u001b[0m in \u001b[0;36m_read_sql_engine\u001b[0;34m(self, sql, options)\u001b[0m\n\u001b[1;32m    116\u001b[0m         \u001b[0;32mif\u001b[0m \u001b[0mcaller\u001b[0m \u001b[0;32mis\u001b[0m \u001b[0mNone\u001b[0m\u001b[0;34m:\u001b[0m\u001b[0;34m\u001b[0m\u001b[0m\n\u001b[1;32m    117\u001b[0m             \u001b[0;32mraise\u001b[0m \u001b[0mConnectionNotConfigured\u001b[0m\u001b[0;34m(\u001b[0m\u001b[0;34m\"A connection object must be configured using %config SQL.conn_name\"\u001b[0m\u001b[0;34m)\u001b[0m\u001b[0;34m\u001b[0m\u001b[0m\n\u001b[0;32m--> 118\u001b[0;31m         \u001b[0mresult\u001b[0m\u001b[0;34m,\u001b[0m \u001b[0mdel_time\u001b[0m\u001b[0;34m,\u001b[0m \u001b[0mtime_output\u001b[0m \u001b[0;34m=\u001b[0m \u001b[0mself\u001b[0m\u001b[0;34m.\u001b[0m\u001b[0m_time_and_run_query\u001b[0m\u001b[0;34m(\u001b[0m\u001b[0mcaller\u001b[0m\u001b[0;34m,\u001b[0m \u001b[0msql\u001b[0m\u001b[0;34m)\u001b[0m\u001b[0;34m\u001b[0m\u001b[0m\n\u001b[0m\u001b[1;32m    119\u001b[0m \u001b[0;34m\u001b[0m\u001b[0m\n\u001b[1;32m    120\u001b[0m         \u001b[0;32mif\u001b[0m \u001b[0mtable_name\u001b[0m\u001b[0;34m:\u001b[0m\u001b[0;34m\u001b[0m\u001b[0m\n",
      "\u001b[0;32m/Users/crawles/anaconda/lib/python2.7/site-packages/sql_magic/connection.pyc\u001b[0m in \u001b[0;36m_time_and_run_query\u001b[0;34m(self, caller, sql)\u001b[0m\n\u001b[1;32m    132\u001b[0m         \u001b[0msys\u001b[0m\u001b[0;34m.\u001b[0m\u001b[0mstdout\u001b[0m\u001b[0;34m.\u001b[0m\u001b[0mwrite\u001b[0m\u001b[0;34m(\u001b[0m\u001b[0mtime_output\u001b[0m\u001b[0;34m)\u001b[0m\u001b[0;34m\u001b[0m\u001b[0m\n\u001b[1;32m    133\u001b[0m         \u001b[0mstart_time\u001b[0m \u001b[0;34m=\u001b[0m \u001b[0mtime\u001b[0m\u001b[0;34m.\u001b[0m\u001b[0mtime\u001b[0m\u001b[0;34m(\u001b[0m\u001b[0;34m)\u001b[0m\u001b[0;34m\u001b[0m\u001b[0m\n\u001b[0;32m--> 134\u001b[0;31m         \u001b[0mresult\u001b[0m \u001b[0;34m=\u001b[0m \u001b[0mcaller\u001b[0m\u001b[0;34m(\u001b[0m\u001b[0msql\u001b[0m\u001b[0;34m)\u001b[0m\u001b[0;34m\u001b[0m\u001b[0m\n\u001b[0m\u001b[1;32m    135\u001b[0m         \u001b[0mend_time\u001b[0m \u001b[0;34m=\u001b[0m \u001b[0mtime\u001b[0m\u001b[0;34m.\u001b[0m\u001b[0mtime\u001b[0m\u001b[0;34m(\u001b[0m\u001b[0;34m)\u001b[0m\u001b[0;34m\u001b[0m\u001b[0m\n\u001b[1;32m    136\u001b[0m         \u001b[0mdel_time\u001b[0m \u001b[0;34m=\u001b[0m \u001b[0;34m(\u001b[0m\u001b[0mend_time\u001b[0m \u001b[0;34m-\u001b[0m \u001b[0mstart_time\u001b[0m\u001b[0;34m)\u001b[0m \u001b[0;34m/\u001b[0m \u001b[0;36m60.\u001b[0m\u001b[0;34m\u001b[0m\u001b[0m\n",
      "\u001b[0;32m/Users/crawles/anaconda/lib/python2.7/site-packages/sql_magic/connection.pyc\u001b[0m in \u001b[0;36m_run_db_sql\u001b[0;34m(sql_code)\u001b[0m\n\u001b[1;32m     62\u001b[0m         \u001b[0;32mdef\u001b[0m \u001b[0m_run_db_sql\u001b[0m\u001b[0;34m(\u001b[0m\u001b[0msql_code\u001b[0m\u001b[0;34m)\u001b[0m\u001b[0;34m:\u001b[0m\u001b[0;34m\u001b[0m\u001b[0m\n\u001b[1;32m     63\u001b[0m             \u001b[0;32mtry\u001b[0m\u001b[0;34m:\u001b[0m\u001b[0;34m\u001b[0m\u001b[0m\n\u001b[0;32m---> 64\u001b[0;31m                 \u001b[0;32mreturn\u001b[0m \u001b[0mpsql\u001b[0m\u001b[0;34m.\u001b[0m\u001b[0mread_sql\u001b[0m\u001b[0;34m(\u001b[0m\u001b[0msql_code\u001b[0m\u001b[0;34m,\u001b[0m \u001b[0mconn_object\u001b[0m\u001b[0;34m)\u001b[0m\u001b[0;34m\u001b[0m\u001b[0m\n\u001b[0m\u001b[1;32m     65\u001b[0m             \u001b[0;32mexcept\u001b[0m\u001b[0;34m(\u001b[0m\u001b[0mtuple\u001b[0m\u001b[0;34m(\u001b[0m\u001b[0mself\u001b[0m\u001b[0;34m.\u001b[0m\u001b[0mno_return_result_exceptions\u001b[0m\u001b[0;34m)\u001b[0m\u001b[0;34m)\u001b[0m\u001b[0;34m:\u001b[0m\u001b[0;34m\u001b[0m\u001b[0m\n\u001b[1;32m     66\u001b[0m                 \u001b[0;32mreturn\u001b[0m \u001b[0mEmptyResult\u001b[0m\u001b[0;34m(\u001b[0m\u001b[0;34m)\u001b[0m\u001b[0;34m\u001b[0m\u001b[0m\n",
      "\u001b[0;32m/Users/crawles/anaconda/lib/python2.7/site-packages/pandas/io/sql.pyc\u001b[0m in \u001b[0;36mread_sql\u001b[0;34m(sql, con, index_col, coerce_float, params, parse_dates, columns, chunksize)\u001b[0m\n\u001b[1;32m    497\u001b[0m             \u001b[0msql\u001b[0m\u001b[0;34m,\u001b[0m \u001b[0mindex_col\u001b[0m\u001b[0;34m=\u001b[0m\u001b[0mindex_col\u001b[0m\u001b[0;34m,\u001b[0m \u001b[0mparams\u001b[0m\u001b[0;34m=\u001b[0m\u001b[0mparams\u001b[0m\u001b[0;34m,\u001b[0m\u001b[0;34m\u001b[0m\u001b[0m\n\u001b[1;32m    498\u001b[0m             \u001b[0mcoerce_float\u001b[0m\u001b[0;34m=\u001b[0m\u001b[0mcoerce_float\u001b[0m\u001b[0;34m,\u001b[0m \u001b[0mparse_dates\u001b[0m\u001b[0;34m=\u001b[0m\u001b[0mparse_dates\u001b[0m\u001b[0;34m,\u001b[0m\u001b[0;34m\u001b[0m\u001b[0m\n\u001b[0;32m--> 499\u001b[0;31m             chunksize=chunksize)\n\u001b[0m\u001b[1;32m    500\u001b[0m \u001b[0;34m\u001b[0m\u001b[0m\n\u001b[1;32m    501\u001b[0m     \u001b[0;32mtry\u001b[0m\u001b[0;34m:\u001b[0m\u001b[0;34m\u001b[0m\u001b[0m\n",
      "\u001b[0;32m/Users/crawles/anaconda/lib/python2.7/site-packages/pandas/io/sql.pyc\u001b[0m in \u001b[0;36mread_query\u001b[0;34m(self, sql, index_col, coerce_float, params, parse_dates, chunksize)\u001b[0m\n\u001b[1;32m   1597\u001b[0m \u001b[0;34m\u001b[0m\u001b[0m\n\u001b[1;32m   1598\u001b[0m         \u001b[0margs\u001b[0m \u001b[0;34m=\u001b[0m \u001b[0m_convert_params\u001b[0m\u001b[0;34m(\u001b[0m\u001b[0msql\u001b[0m\u001b[0;34m,\u001b[0m \u001b[0mparams\u001b[0m\u001b[0;34m)\u001b[0m\u001b[0;34m\u001b[0m\u001b[0m\n\u001b[0;32m-> 1599\u001b[0;31m         \u001b[0mcursor\u001b[0m \u001b[0;34m=\u001b[0m \u001b[0mself\u001b[0m\u001b[0;34m.\u001b[0m\u001b[0mexecute\u001b[0m\u001b[0;34m(\u001b[0m\u001b[0;34m*\u001b[0m\u001b[0margs\u001b[0m\u001b[0;34m)\u001b[0m\u001b[0;34m\u001b[0m\u001b[0m\n\u001b[0m\u001b[1;32m   1600\u001b[0m         \u001b[0mcolumns\u001b[0m \u001b[0;34m=\u001b[0m \u001b[0;34m[\u001b[0m\u001b[0mcol_desc\u001b[0m\u001b[0;34m[\u001b[0m\u001b[0;36m0\u001b[0m\u001b[0;34m]\u001b[0m \u001b[0;32mfor\u001b[0m \u001b[0mcol_desc\u001b[0m \u001b[0;32min\u001b[0m \u001b[0mcursor\u001b[0m\u001b[0;34m.\u001b[0m\u001b[0mdescription\u001b[0m\u001b[0;34m]\u001b[0m\u001b[0;34m\u001b[0m\u001b[0m\n\u001b[1;32m   1601\u001b[0m \u001b[0;34m\u001b[0m\u001b[0m\n",
      "\u001b[0;32m/Users/crawles/anaconda/lib/python2.7/site-packages/pandas/io/sql.pyc\u001b[0m in \u001b[0;36mexecute\u001b[0;34m(self, *args, **kwargs)\u001b[0m\n\u001b[1;32m   1574\u001b[0m             ex = DatabaseError(\n\u001b[1;32m   1575\u001b[0m                 \"Execution failed on sql '%s': %s\" % (args[0], exc))\n\u001b[0;32m-> 1576\u001b[0;31m             \u001b[0mraise_with_traceback\u001b[0m\u001b[0;34m(\u001b[0m\u001b[0mex\u001b[0m\u001b[0;34m)\u001b[0m\u001b[0;34m\u001b[0m\u001b[0m\n\u001b[0m\u001b[1;32m   1577\u001b[0m \u001b[0;34m\u001b[0m\u001b[0m\n\u001b[1;32m   1578\u001b[0m     \u001b[0;34m@\u001b[0m\u001b[0mstaticmethod\u001b[0m\u001b[0;34m\u001b[0m\u001b[0m\n",
      "\u001b[0;32m/Users/crawles/anaconda/lib/python2.7/site-packages/pandas/io/sql.pyc\u001b[0m in \u001b[0;36mexecute\u001b[0;34m(self, *args, **kwargs)\u001b[0m\n\u001b[1;32m   1562\u001b[0m                 \u001b[0mcur\u001b[0m\u001b[0;34m.\u001b[0m\u001b[0mexecute\u001b[0m\u001b[0;34m(\u001b[0m\u001b[0;34m*\u001b[0m\u001b[0margs\u001b[0m\u001b[0;34m,\u001b[0m \u001b[0;34m**\u001b[0m\u001b[0mkwargs\u001b[0m\u001b[0;34m)\u001b[0m\u001b[0;34m\u001b[0m\u001b[0m\n\u001b[1;32m   1563\u001b[0m             \u001b[0;32melse\u001b[0m\u001b[0;34m:\u001b[0m\u001b[0;34m\u001b[0m\u001b[0m\n\u001b[0;32m-> 1564\u001b[0;31m                 \u001b[0mcur\u001b[0m\u001b[0;34m.\u001b[0m\u001b[0mexecute\u001b[0m\u001b[0;34m(\u001b[0m\u001b[0;34m*\u001b[0m\u001b[0margs\u001b[0m\u001b[0;34m)\u001b[0m\u001b[0;34m\u001b[0m\u001b[0m\n\u001b[0m\u001b[1;32m   1565\u001b[0m             \u001b[0;32mreturn\u001b[0m \u001b[0mcur\u001b[0m\u001b[0;34m\u001b[0m\u001b[0m\n\u001b[1;32m   1566\u001b[0m         \u001b[0;32mexcept\u001b[0m \u001b[0mException\u001b[0m \u001b[0;32mas\u001b[0m \u001b[0mexc\u001b[0m\u001b[0;34m:\u001b[0m\u001b[0;34m\u001b[0m\u001b[0m\n",
      "\u001b[0;31mDatabaseError\u001b[0m: Execution failed on sql 'CREATE TYPE prediction_type AS (\n    id int,\n    score float8\n);': type \"prediction_type\" already exists\n"
     ]
    }
   ],
   "source": [
    "%%read_sql\n",
    "-- return type for modeling\n",
    "DROP TYPE IF EXISTS wnv_training.prediction_type CASCADE;\n",
    "CREATE TYPE prediction_type AS (\n",
    "    id int,\n",
    "    score float8\n",
    ");"
   ]
  },
  {
   "cell_type": "code",
   "execution_count": 105,
   "metadata": {
    "collapsed": true,
    "deletable": true,
    "editable": true
   },
   "outputs": [],
   "source": [
    "input_table = 'training_array'\n",
    "hyperparam_table = 'hyperparameters'\n",
    "output_table = 'hyperparameter_tuning_models'"
   ]
  },
  {
   "cell_type": "code",
   "execution_count": 106,
   "metadata": {
    "collapsed": false,
    "deletable": true,
    "editable": true
   },
   "outputs": [
    {
     "name": "stdout",
     "output_type": "stream",
     "text": [
      "Query started at 06:19:59 PM EDT; Query executed in 0.02 m"
     ]
    },
    {
     "data": {
      "text/plain": [
       "<sql_magic.exceptions.EmptyResult at 0x11a6de990>"
      ]
     },
     "execution_count": 106,
     "metadata": {},
     "output_type": "execute_result"
    }
   ],
   "source": [
    "%%read_sql\n",
    "DROP TABLE IF EXISTS hyperparameter_tuning_models;\n",
    "CREATE TABLE hyperparameter_tuning_models\n",
    "AS\n",
    "SELECT b.model_id, \n",
    "       rf_train_tune(features::float[],\n",
    "                     array[{feature_str}]::text[],\n",
    "                     wnv_present::int[], 'id'::text,\n",
    "                     b.num_trees,\n",
    "                     b.max_depth,\n",
    "                     b.max_features) AS model_obj\n",
    "FROM training_array a, hyperparameters b;"
   ]
  },
  {
   "cell_type": "code",
   "execution_count": 107,
   "metadata": {
    "collapsed": false
   },
   "outputs": [
    {
     "name": "stdout",
     "output_type": "stream",
     "text": [
      "Query started at 06:20:00 PM EDT; Query executed in 0.00 m"
     ]
    },
    {
     "data": {
      "text/html": [
       "<div>\n",
       "<table border=\"1\" class=\"dataframe\">\n",
       "  <thead>\n",
       "    <tr style=\"text-align: right;\">\n",
       "      <th></th>\n",
       "      <th>id</th>\n",
       "      <th>date_ts</th>\n",
       "      <th>year</th>\n",
       "      <th>month</th>\n",
       "      <th>day</th>\n",
       "      <th>day_of_year</th>\n",
       "      <th>trap</th>\n",
       "      <th>latitude</th>\n",
       "      <th>longitude</th>\n",
       "      <th>species</th>\n",
       "      <th>...</th>\n",
       "      <th>species_CULEX PIPIENS/RESTUANS</th>\n",
       "      <th>species_CULEX RESTUANS</th>\n",
       "      <th>species_CULEX SALINARIUS</th>\n",
       "      <th>species_CULEX TARSALIS</th>\n",
       "      <th>species_CULEX TERRITANS</th>\n",
       "      <th>avg</th>\n",
       "      <th>preciptotal7</th>\n",
       "      <th>tmin7</th>\n",
       "      <th>tavg7</th>\n",
       "      <th>tmax7</th>\n",
       "    </tr>\n",
       "  </thead>\n",
       "  <tbody>\n",
       "    <tr>\n",
       "      <th>0</th>\n",
       "      <td>1</td>\n",
       "      <td>2007-08-22</td>\n",
       "      <td>2007</td>\n",
       "      <td>8</td>\n",
       "      <td>22</td>\n",
       "      <td>234</td>\n",
       "      <td>T102</td>\n",
       "      <td>41.750498</td>\n",
       "      <td>-87.605294</td>\n",
       "      <td>CULEX RESTUANS</td>\n",
       "      <td>...</td>\n",
       "      <td>0</td>\n",
       "      <td>1</td>\n",
       "      <td>0</td>\n",
       "      <td>0</td>\n",
       "      <td>0</td>\n",
       "      <td>6.87500</td>\n",
       "      <td>0.430000</td>\n",
       "      <td>66.0000</td>\n",
       "      <td>72.4375</td>\n",
       "      <td>78.3750</td>\n",
       "    </tr>\n",
       "    <tr>\n",
       "      <th>1</th>\n",
       "      <td>3</td>\n",
       "      <td>2013-09-12</td>\n",
       "      <td>2013</td>\n",
       "      <td>9</td>\n",
       "      <td>12</td>\n",
       "      <td>255</td>\n",
       "      <td>T043</td>\n",
       "      <td>41.857402</td>\n",
       "      <td>-87.694991</td>\n",
       "      <td>CULEX PIPIENS/RESTUANS</td>\n",
       "      <td>...</td>\n",
       "      <td>1</td>\n",
       "      <td>0</td>\n",
       "      <td>0</td>\n",
       "      <td>0</td>\n",
       "      <td>0</td>\n",
       "      <td>9.21875</td>\n",
       "      <td>0.004375</td>\n",
       "      <td>67.8125</td>\n",
       "      <td>77.1875</td>\n",
       "      <td>86.0000</td>\n",
       "    </tr>\n",
       "    <tr>\n",
       "      <th>2</th>\n",
       "      <td>5</td>\n",
       "      <td>2007-08-01</td>\n",
       "      <td>2007</td>\n",
       "      <td>8</td>\n",
       "      <td>1</td>\n",
       "      <td>213</td>\n",
       "      <td>T135</td>\n",
       "      <td>41.662014</td>\n",
       "      <td>-87.724608</td>\n",
       "      <td>CULEX SALINARIUS</td>\n",
       "      <td>...</td>\n",
       "      <td>0</td>\n",
       "      <td>0</td>\n",
       "      <td>1</td>\n",
       "      <td>0</td>\n",
       "      <td>0</td>\n",
       "      <td>6.81250</td>\n",
       "      <td>0.080625</td>\n",
       "      <td>67.4375</td>\n",
       "      <td>76.7500</td>\n",
       "      <td>85.5625</td>\n",
       "    </tr>\n",
       "    <tr>\n",
       "      <th>3</th>\n",
       "      <td>7</td>\n",
       "      <td>2007-08-01</td>\n",
       "      <td>2007</td>\n",
       "      <td>8</td>\n",
       "      <td>1</td>\n",
       "      <td>213</td>\n",
       "      <td>T086</td>\n",
       "      <td>41.688324</td>\n",
       "      <td>-87.676709</td>\n",
       "      <td>CULEX PIPIENS/RESTUANS</td>\n",
       "      <td>...</td>\n",
       "      <td>1</td>\n",
       "      <td>0</td>\n",
       "      <td>0</td>\n",
       "      <td>0</td>\n",
       "      <td>0</td>\n",
       "      <td>6.81250</td>\n",
       "      <td>0.080625</td>\n",
       "      <td>67.4375</td>\n",
       "      <td>76.7500</td>\n",
       "      <td>85.5625</td>\n",
       "    </tr>\n",
       "    <tr>\n",
       "      <th>4</th>\n",
       "      <td>9</td>\n",
       "      <td>2013-06-07</td>\n",
       "      <td>2013</td>\n",
       "      <td>6</td>\n",
       "      <td>7</td>\n",
       "      <td>158</td>\n",
       "      <td>T151</td>\n",
       "      <td>41.916265</td>\n",
       "      <td>-87.800515</td>\n",
       "      <td>CULEX RESTUANS</td>\n",
       "      <td>...</td>\n",
       "      <td>0</td>\n",
       "      <td>1</td>\n",
       "      <td>0</td>\n",
       "      <td>0</td>\n",
       "      <td>0</td>\n",
       "      <td>8.73125</td>\n",
       "      <td>0.110625</td>\n",
       "      <td>53.3125</td>\n",
       "      <td>62.1250</td>\n",
       "      <td>70.4375</td>\n",
       "    </tr>\n",
       "    <tr>\n",
       "      <th>5</th>\n",
       "      <td>11</td>\n",
       "      <td>2009-09-14</td>\n",
       "      <td>2009</td>\n",
       "      <td>9</td>\n",
       "      <td>14</td>\n",
       "      <td>257</td>\n",
       "      <td>T225</td>\n",
       "      <td>41.743402</td>\n",
       "      <td>-87.731435</td>\n",
       "      <td>CULEX PIPIENS</td>\n",
       "      <td>...</td>\n",
       "      <td>0</td>\n",
       "      <td>0</td>\n",
       "      <td>0</td>\n",
       "      <td>0</td>\n",
       "      <td>0</td>\n",
       "      <td>5.50000</td>\n",
       "      <td>0.000625</td>\n",
       "      <td>61.3750</td>\n",
       "      <td>70.5625</td>\n",
       "      <td>79.2500</td>\n",
       "    </tr>\n",
       "    <tr>\n",
       "      <th>6</th>\n",
       "      <td>13</td>\n",
       "      <td>2011-08-19</td>\n",
       "      <td>2011</td>\n",
       "      <td>8</td>\n",
       "      <td>19</td>\n",
       "      <td>231</td>\n",
       "      <td>T069</td>\n",
       "      <td>41.768388</td>\n",
       "      <td>-87.678649</td>\n",
       "      <td>CULEX PIPIENS/RESTUANS</td>\n",
       "      <td>...</td>\n",
       "      <td>1</td>\n",
       "      <td>0</td>\n",
       "      <td>0</td>\n",
       "      <td>0</td>\n",
       "      <td>0</td>\n",
       "      <td>6.64375</td>\n",
       "      <td>0.105625</td>\n",
       "      <td>63.3125</td>\n",
       "      <td>73.1875</td>\n",
       "      <td>82.3750</td>\n",
       "    </tr>\n",
       "    <tr>\n",
       "      <th>7</th>\n",
       "      <td>15</td>\n",
       "      <td>2011-07-15</td>\n",
       "      <td>2011</td>\n",
       "      <td>7</td>\n",
       "      <td>15</td>\n",
       "      <td>196</td>\n",
       "      <td>T079</td>\n",
       "      <td>41.766202</td>\n",
       "      <td>-87.562889</td>\n",
       "      <td>CULEX PIPIENS/RESTUANS</td>\n",
       "      <td>...</td>\n",
       "      <td>1</td>\n",
       "      <td>0</td>\n",
       "      <td>0</td>\n",
       "      <td>0</td>\n",
       "      <td>0</td>\n",
       "      <td>7.95000</td>\n",
       "      <td>0.033750</td>\n",
       "      <td>67.4375</td>\n",
       "      <td>77.0000</td>\n",
       "      <td>85.8125</td>\n",
       "    </tr>\n",
       "    <tr>\n",
       "      <th>8</th>\n",
       "      <td>17</td>\n",
       "      <td>2007-08-24</td>\n",
       "      <td>2007</td>\n",
       "      <td>8</td>\n",
       "      <td>24</td>\n",
       "      <td>236</td>\n",
       "      <td>T135</td>\n",
       "      <td>41.662014</td>\n",
       "      <td>-87.724608</td>\n",
       "      <td>CULEX PIPIENS/RESTUANS</td>\n",
       "      <td>...</td>\n",
       "      <td>1</td>\n",
       "      <td>0</td>\n",
       "      <td>0</td>\n",
       "      <td>0</td>\n",
       "      <td>0</td>\n",
       "      <td>7.55625</td>\n",
       "      <td>0.660625</td>\n",
       "      <td>66.1250</td>\n",
       "      <td>73.1875</td>\n",
       "      <td>79.7500</td>\n",
       "    </tr>\n",
       "    <tr>\n",
       "      <th>9</th>\n",
       "      <td>19</td>\n",
       "      <td>2011-09-01</td>\n",
       "      <td>2011</td>\n",
       "      <td>9</td>\n",
       "      <td>1</td>\n",
       "      <td>244</td>\n",
       "      <td>T013</td>\n",
       "      <td>41.923738</td>\n",
       "      <td>-87.785288</td>\n",
       "      <td>CULEX PIPIENS/RESTUANS</td>\n",
       "      <td>...</td>\n",
       "      <td>1</td>\n",
       "      <td>0</td>\n",
       "      <td>0</td>\n",
       "      <td>0</td>\n",
       "      <td>0</td>\n",
       "      <td>6.58125</td>\n",
       "      <td>0.006875</td>\n",
       "      <td>63.8750</td>\n",
       "      <td>73.4375</td>\n",
       "      <td>82.5625</td>\n",
       "    </tr>\n",
       "  </tbody>\n",
       "</table>\n",
       "<p>10 rows × 24 columns</p>\n",
       "</div>"
      ],
      "text/plain": [
       "   id     date_ts  year  month  day  day_of_year  trap   latitude  longitude  \\\n",
       "0   1  2007-08-22  2007      8   22          234  T102  41.750498 -87.605294   \n",
       "1   3  2013-09-12  2013      9   12          255  T043  41.857402 -87.694991   \n",
       "2   5  2007-08-01  2007      8    1          213  T135  41.662014 -87.724608   \n",
       "3   7  2007-08-01  2007      8    1          213  T086  41.688324 -87.676709   \n",
       "4   9  2013-06-07  2013      6    7          158  T151  41.916265 -87.800515   \n",
       "5  11  2009-09-14  2009      9   14          257  T225  41.743402 -87.731435   \n",
       "6  13  2011-08-19  2011      8   19          231  T069  41.768388 -87.678649   \n",
       "7  15  2011-07-15  2011      7   15          196  T079  41.766202 -87.562889   \n",
       "8  17  2007-08-24  2007      8   24          236  T135  41.662014 -87.724608   \n",
       "9  19  2011-09-01  2011      9    1          244  T013  41.923738 -87.785288   \n",
       "\n",
       "                  species   ...     species_CULEX PIPIENS/RESTUANS  \\\n",
       "0          CULEX RESTUANS   ...                                  0   \n",
       "1  CULEX PIPIENS/RESTUANS   ...                                  1   \n",
       "2        CULEX SALINARIUS   ...                                  0   \n",
       "3  CULEX PIPIENS/RESTUANS   ...                                  1   \n",
       "4          CULEX RESTUANS   ...                                  0   \n",
       "5           CULEX PIPIENS   ...                                  0   \n",
       "6  CULEX PIPIENS/RESTUANS   ...                                  1   \n",
       "7  CULEX PIPIENS/RESTUANS   ...                                  1   \n",
       "8  CULEX PIPIENS/RESTUANS   ...                                  1   \n",
       "9  CULEX PIPIENS/RESTUANS   ...                                  1   \n",
       "\n",
       "   species_CULEX RESTUANS  species_CULEX SALINARIUS  species_CULEX TARSALIS  \\\n",
       "0                       1                         0                       0   \n",
       "1                       0                         0                       0   \n",
       "2                       0                         1                       0   \n",
       "3                       0                         0                       0   \n",
       "4                       1                         0                       0   \n",
       "5                       0                         0                       0   \n",
       "6                       0                         0                       0   \n",
       "7                       0                         0                       0   \n",
       "8                       0                         0                       0   \n",
       "9                       0                         0                       0   \n",
       "\n",
       "   species_CULEX TERRITANS      avg  preciptotal7    tmin7    tavg7    tmax7  \n",
       "0                        0  6.87500      0.430000  66.0000  72.4375  78.3750  \n",
       "1                        0  9.21875      0.004375  67.8125  77.1875  86.0000  \n",
       "2                        0  6.81250      0.080625  67.4375  76.7500  85.5625  \n",
       "3                        0  6.81250      0.080625  67.4375  76.7500  85.5625  \n",
       "4                        0  8.73125      0.110625  53.3125  62.1250  70.4375  \n",
       "5                        0  5.50000      0.000625  61.3750  70.5625  79.2500  \n",
       "6                        0  6.64375      0.105625  63.3125  73.1875  82.3750  \n",
       "7                        0  7.95000      0.033750  67.4375  77.0000  85.8125  \n",
       "8                        0  7.55625      0.660625  66.1250  73.1875  79.7500  \n",
       "9                        0  6.58125      0.006875  63.8750  73.4375  82.5625  \n",
       "\n",
       "[10 rows x 24 columns]"
      ]
     },
     "execution_count": 107,
     "metadata": {},
     "output_type": "execute_result"
    }
   ],
   "source": [
    "%%read_sql df\n",
    "SELECT *\n",
    "FROM wnv_features\n",
    "LIMIT 10"
   ]
  },
  {
   "cell_type": "code",
   "execution_count": 108,
   "metadata": {
    "collapsed": false
   },
   "outputs": [
    {
     "data": {
      "text/plain": [
       "id                                  int64\n",
       "date_ts                            object\n",
       "year                                int64\n",
       "month                               int64\n",
       "day                                 int64\n",
       "day_of_year                         int64\n",
       "trap                               object\n",
       "latitude                          float64\n",
       "longitude                         float64\n",
       "species                            object\n",
       "total_num_mosquitos                 int64\n",
       "wnv_present                         int64\n",
       "species_CULEX ERRATICUS             int64\n",
       "species_CULEX PIPIENS               int64\n",
       "species_CULEX PIPIENS/RESTUANS      int64\n",
       "species_CULEX RESTUANS              int64\n",
       "species_CULEX SALINARIUS            int64\n",
       "species_CULEX TARSALIS              int64\n",
       "species_CULEX TERRITANS             int64\n",
       "avg                               float64\n",
       "preciptotal7                      float64\n",
       "tmin7                             float64\n",
       "tavg7                             float64\n",
       "tmax7                             float64\n",
       "dtype: object"
      ]
     },
     "execution_count": 108,
     "metadata": {},
     "output_type": "execute_result"
    }
   ],
   "source": [
    "df.dtypes"
   ]
  },
  {
   "cell_type": "code",
   "execution_count": 109,
   "metadata": {
    "collapsed": false
   },
   "outputs": [
    {
     "name": "stdout",
     "output_type": "stream",
     "text": [
      "Query started at 06:20:00 PM EDT; Query executed in 0.19 m"
     ]
    },
    {
     "data": {
      "text/plain": [
       "<sql_magic.exceptions.EmptyResult at 0x11a6de610>"
      ]
     },
     "execution_count": 109,
     "metadata": {},
     "output_type": "execute_result"
    }
   ],
   "source": [
    "%%read_sql\n",
    "DROP TABLE IF EXISTS hyperparameter_scores;\n",
    "CREATE TABLE hyperparameter_scores\n",
    "AS\n",
    "SELECT a.*\n",
    "       --b.wnv_present\n",
    "FROM\n",
    "    (SELECT (rf_predict(features::float[], array{features}::text[], model_obj::text, 'id'::text)).*\n",
    "    FROM testing_array \n",
    "    CROSS JOIN hyperparameter_tuning_models) a\n",
    "/* JOIN wnv_features b\n",
    "USING (id) */"
   ]
  },
  {
   "cell_type": "code",
   "execution_count": 110,
   "metadata": {
    "collapsed": false
   },
   "outputs": [
    {
     "name": "stdout",
     "output_type": "stream",
     "text": [
      "Query started at 06:20:12 PM EDT; Query executed in 0.00 m"
     ]
    },
    {
     "data": {
      "text/html": [
       "<div>\n",
       "<table border=\"1\" class=\"dataframe\">\n",
       "  <thead>\n",
       "    <tr style=\"text-align: right;\">\n",
       "      <th></th>\n",
       "      <th>id</th>\n",
       "      <th>score</th>\n",
       "    </tr>\n",
       "  </thead>\n",
       "  <tbody>\n",
       "    <tr>\n",
       "      <th>0</th>\n",
       "      <td>63</td>\n",
       "      <td>0.025992</td>\n",
       "    </tr>\n",
       "    <tr>\n",
       "      <th>1</th>\n",
       "      <td>139</td>\n",
       "      <td>0.049230</td>\n",
       "    </tr>\n",
       "    <tr>\n",
       "      <th>2</th>\n",
       "      <td>189</td>\n",
       "      <td>0.055576</td>\n",
       "    </tr>\n",
       "    <tr>\n",
       "      <th>3</th>\n",
       "      <td>262</td>\n",
       "      <td>0.055576</td>\n",
       "    </tr>\n",
       "    <tr>\n",
       "      <th>4</th>\n",
       "      <td>68</td>\n",
       "      <td>0.025992</td>\n",
       "    </tr>\n",
       "    <tr>\n",
       "      <th>5</th>\n",
       "      <td>328</td>\n",
       "      <td>0.025992</td>\n",
       "    </tr>\n",
       "    <tr>\n",
       "      <th>6</th>\n",
       "      <td>126</td>\n",
       "      <td>0.040263</td>\n",
       "    </tr>\n",
       "    <tr>\n",
       "      <th>7</th>\n",
       "      <td>162</td>\n",
       "      <td>0.046609</td>\n",
       "    </tr>\n",
       "    <tr>\n",
       "      <th>8</th>\n",
       "      <td>432</td>\n",
       "      <td>0.055576</td>\n",
       "    </tr>\n",
       "    <tr>\n",
       "      <th>9</th>\n",
       "      <td>228</td>\n",
       "      <td>0.025992</td>\n",
       "    </tr>\n",
       "  </tbody>\n",
       "</table>\n",
       "</div>"
      ],
      "text/plain": [
       "    id     score\n",
       "0   63  0.025992\n",
       "1  139  0.049230\n",
       "2  189  0.055576\n",
       "3  262  0.055576\n",
       "4   68  0.025992\n",
       "5  328  0.025992\n",
       "6  126  0.040263\n",
       "7  162  0.046609\n",
       "8  432  0.055576\n",
       "9  228  0.025992"
      ]
     },
     "execution_count": 110,
     "metadata": {},
     "output_type": "execute_result"
    }
   ],
   "source": [
    "%%read_sql df\n",
    "SELECT *\n",
    "FROM hyperparameter_scores\n",
    "LIMIT 10"
   ]
  },
  {
   "cell_type": "code",
   "execution_count": 111,
   "metadata": {
    "collapsed": false
   },
   "outputs": [
    {
     "data": {
      "text/plain": [
       "id        object\n",
       "score    float64\n",
       "dtype: object"
      ]
     },
     "execution_count": 111,
     "metadata": {},
     "output_type": "execute_result"
    }
   ],
   "source": [
    "df.dtypes"
   ]
  },
  {
   "cell_type": "code",
   "execution_count": 112,
   "metadata": {
    "collapsed": false,
    "deletable": true,
    "editable": true
   },
   "outputs": [
    {
     "name": "stdout",
     "output_type": "stream",
     "text": [
      "Query started at 06:20:12 PM EDT; Query executed in 0.00 m"
     ]
    },
    {
     "data": {
      "text/html": [
       "<div>\n",
       "<table border=\"1\" class=\"dataframe\">\n",
       "  <thead>\n",
       "    <tr style=\"text-align: right;\">\n",
       "      <th></th>\n",
       "      <th>model_id</th>\n",
       "      <th>num_trees</th>\n",
       "      <th>max_depth</th>\n",
       "      <th>max_features</th>\n",
       "      <th>model_obj</th>\n",
       "    </tr>\n",
       "  </thead>\n",
       "  <tbody>\n",
       "    <tr>\n",
       "      <th>0</th>\n",
       "      <td>1</td>\n",
       "      <td>10</td>\n",
       "      <td>1</td>\n",
       "      <td>1</td>\n",
       "      <td>ccopy_reg\\n_reconstructor\\np1\\n(csklearn.ensem...</td>\n",
       "    </tr>\n",
       "    <tr>\n",
       "      <th>1</th>\n",
       "      <td>2</td>\n",
       "      <td>10</td>\n",
       "      <td>1</td>\n",
       "      <td>13</td>\n",
       "      <td>ccopy_reg\\n_reconstructor\\np1\\n(csklearn.ensem...</td>\n",
       "    </tr>\n",
       "    <tr>\n",
       "      <th>2</th>\n",
       "      <td>3</td>\n",
       "      <td>10</td>\n",
       "      <td>13</td>\n",
       "      <td>1</td>\n",
       "      <td>ccopy_reg\\n_reconstructor\\np1\\n(csklearn.ensem...</td>\n",
       "    </tr>\n",
       "    <tr>\n",
       "      <th>3</th>\n",
       "      <td>4</td>\n",
       "      <td>10</td>\n",
       "      <td>13</td>\n",
       "      <td>13</td>\n",
       "      <td>ccopy_reg\\n_reconstructor\\np1\\n(csklearn.ensem...</td>\n",
       "    </tr>\n",
       "  </tbody>\n",
       "</table>\n",
       "</div>"
      ],
      "text/plain": [
       "   model_id  num_trees  max_depth  max_features  \\\n",
       "0         1         10          1             1   \n",
       "1         2         10          1            13   \n",
       "2         3         10         13             1   \n",
       "3         4         10         13            13   \n",
       "\n",
       "                                           model_obj  \n",
       "0  ccopy_reg\\n_reconstructor\\np1\\n(csklearn.ensem...  \n",
       "1  ccopy_reg\\n_reconstructor\\np1\\n(csklearn.ensem...  \n",
       "2  ccopy_reg\\n_reconstructor\\np1\\n(csklearn.ensem...  \n",
       "3  ccopy_reg\\n_reconstructor\\np1\\n(csklearn.ensem...  "
      ]
     },
     "execution_count": 112,
     "metadata": {},
     "output_type": "execute_result"
    }
   ],
   "source": [
    "%%read_sql\n",
    "SELECT *\n",
    "FROM hyperparameters\n",
    "JOIN hyperparameter_tuning_models\n",
    "USING (model_id)"
   ]
  },
  {
   "cell_type": "code",
   "execution_count": 113,
   "metadata": {
    "collapsed": false
   },
   "outputs": [
    {
     "data": {
      "text/html": [
       "<div>\n",
       "<table border=\"1\" class=\"dataframe\">\n",
       "  <thead>\n",
       "    <tr style=\"text-align: right;\">\n",
       "      <th></th>\n",
       "      <th>id</th>\n",
       "      <th>score</th>\n",
       "    </tr>\n",
       "  </thead>\n",
       "  <tbody>\n",
       "    <tr>\n",
       "      <th>0</th>\n",
       "      <td>63</td>\n",
       "      <td>0.025992</td>\n",
       "    </tr>\n",
       "    <tr>\n",
       "      <th>1</th>\n",
       "      <td>139</td>\n",
       "      <td>0.049230</td>\n",
       "    </tr>\n",
       "    <tr>\n",
       "      <th>2</th>\n",
       "      <td>189</td>\n",
       "      <td>0.055576</td>\n",
       "    </tr>\n",
       "    <tr>\n",
       "      <th>3</th>\n",
       "      <td>262</td>\n",
       "      <td>0.055576</td>\n",
       "    </tr>\n",
       "    <tr>\n",
       "      <th>4</th>\n",
       "      <td>68</td>\n",
       "      <td>0.025992</td>\n",
       "    </tr>\n",
       "    <tr>\n",
       "      <th>5</th>\n",
       "      <td>328</td>\n",
       "      <td>0.025992</td>\n",
       "    </tr>\n",
       "    <tr>\n",
       "      <th>6</th>\n",
       "      <td>126</td>\n",
       "      <td>0.040263</td>\n",
       "    </tr>\n",
       "    <tr>\n",
       "      <th>7</th>\n",
       "      <td>162</td>\n",
       "      <td>0.046609</td>\n",
       "    </tr>\n",
       "    <tr>\n",
       "      <th>8</th>\n",
       "      <td>432</td>\n",
       "      <td>0.055576</td>\n",
       "    </tr>\n",
       "    <tr>\n",
       "      <th>9</th>\n",
       "      <td>228</td>\n",
       "      <td>0.025992</td>\n",
       "    </tr>\n",
       "  </tbody>\n",
       "</table>\n",
       "</div>"
      ],
      "text/plain": [
       "    id     score\n",
       "0   63  0.025992\n",
       "1  139  0.049230\n",
       "2  189  0.055576\n",
       "3  262  0.055576\n",
       "4   68  0.025992\n",
       "5  328  0.025992\n",
       "6  126  0.040263\n",
       "7  162  0.046609\n",
       "8  432  0.055576\n",
       "9  228  0.025992"
      ]
     },
     "execution_count": 113,
     "metadata": {},
     "output_type": "execute_result"
    }
   ],
   "source": [
    "df"
   ]
  },
  {
   "cell_type": "code",
   "execution_count": 114,
   "metadata": {
    "collapsed": false
   },
   "outputs": [
    {
     "ename": "AttributeError",
     "evalue": "'DataFrame' object has no attribute 'features'",
     "output_type": "error",
     "traceback": [
      "\u001b[0;31m---------------------------------------------------------------------------\u001b[0m",
      "\u001b[0;31mAttributeError\u001b[0m                            Traceback (most recent call last)",
      "\u001b[0;32m<ipython-input-114-26d3551065e7>\u001b[0m in \u001b[0;36m<module>\u001b[0;34m()\u001b[0m\n\u001b[0;32m----> 1\u001b[0;31m \u001b[0mdf\u001b[0m\u001b[0;34m.\u001b[0m\u001b[0mfeatures\u001b[0m\u001b[0;34m\u001b[0m\u001b[0m\n\u001b[0m",
      "\u001b[0;32m/Users/crawles/anaconda/lib/python2.7/site-packages/pandas/core/generic.pyc\u001b[0m in \u001b[0;36m__getattr__\u001b[0;34m(self, name)\u001b[0m\n\u001b[1;32m   2670\u001b[0m             \u001b[0;32mif\u001b[0m \u001b[0mname\u001b[0m \u001b[0;32min\u001b[0m \u001b[0mself\u001b[0m\u001b[0;34m.\u001b[0m\u001b[0m_info_axis\u001b[0m\u001b[0;34m:\u001b[0m\u001b[0;34m\u001b[0m\u001b[0m\n\u001b[1;32m   2671\u001b[0m                 \u001b[0;32mreturn\u001b[0m \u001b[0mself\u001b[0m\u001b[0;34m[\u001b[0m\u001b[0mname\u001b[0m\u001b[0;34m]\u001b[0m\u001b[0;34m\u001b[0m\u001b[0m\n\u001b[0;32m-> 2672\u001b[0;31m             \u001b[0;32mreturn\u001b[0m \u001b[0mobject\u001b[0m\u001b[0;34m.\u001b[0m\u001b[0m__getattribute__\u001b[0m\u001b[0;34m(\u001b[0m\u001b[0mself\u001b[0m\u001b[0;34m,\u001b[0m \u001b[0mname\u001b[0m\u001b[0;34m)\u001b[0m\u001b[0;34m\u001b[0m\u001b[0m\n\u001b[0m\u001b[1;32m   2673\u001b[0m \u001b[0;34m\u001b[0m\u001b[0m\n\u001b[1;32m   2674\u001b[0m     \u001b[0;32mdef\u001b[0m \u001b[0m__setattr__\u001b[0m\u001b[0;34m(\u001b[0m\u001b[0mself\u001b[0m\u001b[0;34m,\u001b[0m \u001b[0mname\u001b[0m\u001b[0;34m,\u001b[0m \u001b[0mvalue\u001b[0m\u001b[0;34m)\u001b[0m\u001b[0;34m:\u001b[0m\u001b[0;34m\u001b[0m\u001b[0m\n",
      "\u001b[0;31mAttributeError\u001b[0m: 'DataFrame' object has no attribute 'features'"
     ]
    }
   ],
   "source": [
    "df.features"
   ]
  },
  {
   "cell_type": "code",
   "execution_count": null,
   "metadata": {
    "collapsed": false
   },
   "outputs": [],
   "source": [
    "import numpy as np\n",
    "from sklearn.cross_validation import train_test_split\n",
    "from sklearn.ensemble import RandomForestClassifier\n",
    "from sklearn.metrics import roc_auc_score\n",
    "\n",
    "df = %read_sql SELECT * FROM training_array\n",
    "array1d = np.array(df.features.iloc[0])\n",
    "column_names = features\n",
    "num_rows = len(array1d)/len(column_names) \n",
    "array2d = np.reshape(array1d, (num_rows, len(column_names)))\n",
    "X = pd.DataFrame(array2d, columns = column_names)\n",
    "X = X.drop('id', axis = 1)\n",
    "y = df.wnv_present.iloc[0]\n",
    "X_train, X_test, y_train, y_test = train_test_split(X,y,test_size=0.2)\n",
    "\n",
    "cl = RandomForestClassifier(n_jobs=-1,\n",
    "                            n_estimators=10,\n",
    "                            max_depth=11,\n",
    "                            max_features=1)\n",
    "cl.fit(X_train,y_train)\n",
    "y_prob = cl.predict_proba(X_test)[:,1]\n",
    "roc_auc_score(y_test, y_prob)"
   ]
  },
  {
   "cell_type": "code",
   "execution_count": null,
   "metadata": {
    "collapsed": false
   },
   "outputs": [],
   "source": [
    "from sklearn.metrics import roc_auc_score, roc_curve\n",
    "def plot_importances(cl, column_names, n_features=10, ax=None, error_bars = True):\n",
    "    df_imp = pd.DataFrame({'features': column_names,\n",
    "                           'importances': cl.feature_importances_})\n",
    "    errors = np.std([tree.feature_importances_ for tree in cl.estimators_], axis=0)\n",
    "    df_imp_sub = df_imp.set_index('features').sort_values('importances').tail(n_features)\n",
    "    if error_bars:\n",
    "        df_errors = pd.DataFrame({'features': column_names,\n",
    "                                  'importances': errors})\n",
    "        df_err_sub = df_errors.set_index('features').ix[df_imp_sub.index]\n",
    "    else:\n",
    "        df_err_sub = None\n",
    "    ax = df_imp_sub.plot(kind='barh', width=.7, legend=False, ax=ax, xerr=df_err_sub, ecolor='g')\n",
    "    for i,t in enumerate(df_imp_sub.index.tolist()):\n",
    "        t = ax.text(0.001, i-.06,t)\n",
    "        t.set_bbox(dict(facecolor='white', alpha=0.4, edgecolor='grey'))\n",
    "    ax.yaxis.set_major_formatter(plt.NullFormatter())\n",
    "    ax.set_title('Feature Importances')\n",
    "    ax.set_xlim(0.0)\n",
    "    ax.set_xlabel('importance')\n",
    "    return df_imp_sub\n",
    "\n",
    "def plot_roc(y_test, y_score, ax = None):\n",
    "    if not ax:\n",
    "        fig = plt.figure(figsize=(8,8))\n",
    "        ax = fig.add_subplot(111)\n",
    "    auc = roc_auc_score(y_test, y_score)\n",
    "    fpr,tpr,thresh = roc_curve(y_test, y_score)\n",
    "    ax.plot([0, 1], [0, 1], linestyle='dashed', color='grey')\n",
    "    ax.plot(fpr, tpr)\n",
    "    ax.set_ylabel('True Positive Rate')\n",
    "    ax.set_xlabel('False Positive Rate')\n",
    "    ax.set_xlim(-0.01, 1)\n",
    "    ax.set_ylim(0, 1.02)\n",
    "    plt.title('ROC')\n",
    "    plt.text(0.85, 0.03, 'AUC: {:1.3f}'.format(auc))\n",
    "%matplotlib inline\n",
    "from matplotlib import pyplot as plt\n",
    "import numpy as np\n",
    "import seaborn as sns\n",
    "\n",
    "fig, (ax,ax1) = plt.subplots(1,2, figsize = (18,8))\n",
    "pred = cl.predict_proba(X_test)[:,1]\n",
    "plot_roc(y_test,pred, ax=ax)\n",
    "df_imp = plot_importances(cl,X.columns, error_bars=True, ax = ax1, n_features=10)"
   ]
  },
  {
   "cell_type": "markdown",
   "metadata": {
    "deletable": true,
    "editable": true
   },
   "source": [
    "# Tune Logistic Regression"
   ]
  },
  {
   "cell_type": "code",
   "execution_count": null,
   "metadata": {
    "collapsed": true,
    "deletable": true,
    "editable": true
   },
   "outputs": [],
   "source": []
  },
  {
   "cell_type": "markdown",
   "metadata": {
    "deletable": true,
    "editable": true
   },
   "source": [
    "# MADlib"
   ]
  },
  {
   "cell_type": "code",
   "execution_count": null,
   "metadata": {
    "collapsed": true
   },
   "outputs": [],
   "source": []
  }
 ],
 "metadata": {
  "anaconda-cloud": {},
  "kernelspec": {
   "display_name": "Python 2",
   "language": "python",
   "name": "python2"
  },
  "language_info": {
   "codemirror_mode": {
    "name": "ipython",
    "version": 2
   },
   "file_extension": ".py",
   "mimetype": "text/x-python",
   "name": "python",
   "nbconvert_exporter": "python",
   "pygments_lexer": "ipython2",
   "version": "2.7.12"
  },
  "nav_menu": {},
  "toc": {
   "navigate_menu": true,
   "number_sections": true,
   "sideBar": true,
   "threshold": 6,
   "toc_cell": false,
   "toc_section_display": "block",
   "toc_window_display": true
  }
 },
 "nbformat": 4,
 "nbformat_minor": 2
}
