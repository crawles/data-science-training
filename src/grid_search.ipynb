{
 "cells": [
  {
   "cell_type": "code",
   "execution_count": 14,
   "metadata": {
    "collapsed": false,
    "deletable": true,
    "editable": true
   },
   "outputs": [
    {
     "name": "stdout",
     "output_type": "stream",
     "text": [
      "The sql_magic extension is already loaded. To reload it, use:\n",
      "  %reload_ext sql_magic\n",
      "Query started at 04:13:08 PM EDT\n",
      "Query executed in 0.00 m\n"
     ]
    },
    {
     "data": {
      "text/plain": [
       "<sql_magic.exceptions.EmptyResult at 0x10ee56c90>"
      ]
     },
     "execution_count": 14,
     "metadata": {},
     "output_type": "execute_result"
    }
   ],
   "source": [
    "%run db.ipynb\n",
    "from plpython_utils import plpython\n",
    "schema = 'wnv'\n",
    "%read_sql SET search_path to {schema}"
   ]
  },
  {
   "cell_type": "markdown",
   "metadata": {},
   "source": [
    "# random forest\n",
    "* number of trees\n",
    "* max depth\n",
    "* max features"
   ]
  },
  {
   "cell_type": "markdown",
   "metadata": {},
   "source": [
    "## Create parameters table"
   ]
  },
  {
   "cell_type": "code",
   "execution_count": 67,
   "metadata": {
    "collapsed": false
   },
   "outputs": [
    {
     "name": "stdout",
     "output_type": "stream",
     "text": [
      "Query started at 05:37:57 PM EDT\n",
      "Query executed in 0.00 m\n"
     ]
    },
    {
     "data": {
      "text/html": [
       "<a id=\"1499809077\"></a>\n",
       "\n",
       "        <script>\n",
       "        function notifyMe() {\n",
       "          if (Notification.permission !== \"granted\")\n",
       "            Notification.requestPermission();\n",
       "          else {\n",
       "            var notification = new Notification('Query Finished in 0.00 m', {\n",
       "              icon: 'https://raw.githubusercontent.com/crawles/Logos/master/jupyter.png?raw=true',\n",
       "              body: \"05:37:57 PM EDT\\n\\nName: None\\nDimensions: None\",\n",
       "            });\n",
       "\n",
       "            notification.onclick = function () {\n",
       "              document.getElementById('1499809077').scrollIntoView();\n",
       "            };\n",
       "\n",
       "          }\n",
       "        }\n",
       "        // prevents notifications from popping up when notebook is re-opened\n",
       "        if (Date.now() < 1.4998090787e+12) {\n",
       "        notifyMe(); };\n",
       "        </script>\n",
       "        "
      ],
      "text/plain": [
       "<IPython.core.display.HTML object>"
      ]
     },
     "execution_count": 67,
     "metadata": {},
     "output_type": "execute_result"
    },
    {
     "name": "stdout",
     "output_type": "stream",
     "text": [
      "Query started at 05:37:57 PM EDT\n",
      "Query executed in 0.00 m\n"
     ]
    },
    {
     "data": {
      "text/html": [
       "<a id=\"1499809077\"></a>\n",
       "\n",
       "        <script>\n",
       "        function notifyMe() {\n",
       "          if (Notification.permission !== \"granted\")\n",
       "            Notification.requestPermission();\n",
       "          else {\n",
       "            var notification = new Notification('Query Finished in 0.00 m', {\n",
       "              icon: 'https://raw.githubusercontent.com/crawles/Logos/master/jupyter.png?raw=true',\n",
       "              body: \"05:37:57 PM EDT\\n\\nName: None\\nDimensions: None\",\n",
       "            });\n",
       "\n",
       "            notification.onclick = function () {\n",
       "              document.getElementById('1499809077').scrollIntoView();\n",
       "            };\n",
       "\n",
       "          }\n",
       "        }\n",
       "        // prevents notifications from popping up when notebook is re-opened\n",
       "        if (Date.now() < 1.49980907871e+12) {\n",
       "        notifyMe(); };\n",
       "        </script>\n",
       "        "
      ],
      "text/plain": [
       "<IPython.core.display.HTML object>"
      ]
     },
     "execution_count": 67,
     "metadata": {},
     "output_type": "execute_result"
    },
    {
     "data": {
      "text/plain": [
       "<sql_magic.exceptions.EmptyResult at 0x10713e990>"
      ]
     },
     "execution_count": 67,
     "metadata": {},
     "output_type": "execute_result"
    }
   ],
   "source": [
    "%%read_sql\n",
    "DROP TABLE IF EXISTS hyperparameters;\n",
    "CREATE TABLE hyperparameters\n",
    "AS\n",
    "SELECT row_number() OVER () AS model_id, * \n",
    "FROM (SELECT generate_series(10,501,100) AS num_trees) a \n",
    "      CROSS JOIN (SELECT generate_series(1,101,10) AS max_depth) b\n",
    "      CROSS JOIN (SELECT generate_series(1,101,10) AS max_features) c\n",
    "-- DISTRIBUTE BY model_id;"
   ]
  },
  {
   "cell_type": "code",
   "execution_count": 68,
   "metadata": {
    "collapsed": false
   },
   "outputs": [
    {
     "name": "stdout",
     "output_type": "stream",
     "text": [
      "Query started at 05:38:18 PM EDT\n",
      "Query executed in 0.00 m\n"
     ]
    },
    {
     "data": {
      "text/html": [
       "<div>\n",
       "<table border=\"1\" class=\"dataframe\">\n",
       "  <thead>\n",
       "    <tr style=\"text-align: right;\">\n",
       "      <th></th>\n",
       "      <th>count</th>\n",
       "    </tr>\n",
       "  </thead>\n",
       "  <tbody>\n",
       "    <tr>\n",
       "      <th>0</th>\n",
       "      <td>500</td>\n",
       "    </tr>\n",
       "  </tbody>\n",
       "</table>\n",
       "</div>"
      ],
      "text/plain": [
       "   count\n",
       "0    500"
      ]
     },
     "execution_count": 68,
     "metadata": {},
     "output_type": "execute_result"
    }
   ],
   "source": [
    "%read_sql SELECT COUNT(*) FROM hyperparameters"
   ]
  },
  {
   "cell_type": "markdown",
   "metadata": {},
   "source": [
    "# Evaluate multiple parameters"
   ]
  },
  {
   "cell_type": "code",
   "execution_count": 49,
   "metadata": {
    "collapsed": true
   },
   "outputs": [],
   "source": [
    "#TODO: trap dummy variable\n",
    "# we add ID in bc, later, we will put this in a pandas dataframe in plpython\n",
    "# and return (id, score)\n",
    "features = ['id', 'longitude','latitude', 'year', 'month', 'day', 'day_of_year',\\\n",
    " 'species_CULEX ERRATICUS', 'species_CULEX PIPIENS', 'species_CULEX PIPIENS/RESTUANS',\\\n",
    " 'species_CULEX RESTUANS', 'species_CULEX SALINARIUS', 'species_CULEX TARSALIS',\\\n",
    " 'species_CULEX TERRITANS', 'avg', 'preciptotal7', 'tmin7', 'tavg7', 'tmax7']\n",
    "feature_formatted = ['\"{}\"'.format(v) for v in features]\n",
    "feature_str = ','.join(feature_formatted)"
   ]
  },
  {
   "cell_type": "code",
   "execution_count": 50,
   "metadata": {
    "collapsed": false
   },
   "outputs": [
    {
     "name": "stdout",
     "output_type": "stream",
     "text": [
      "Successfully created function: wnv.rf_train_tune(array1d float[], column_names  text[], dep1d  int[], id_col_name  text, num_trees  int, max_depth  int, num_features  int)\n"
     ]
    }
   ],
   "source": [
    "@plpython(conn, 'wnv', 'bytea')\n",
    "def rf_train_tune(array1d, column_names, dep1d, id_col_name, num_trees, max_depth, num_features):\n",
    "    '''float[], text[], int[], text, int, int, int'''\n",
    "    \n",
    "    import numpy as np\n",
    "#     import pandas as pd\n",
    "#     from sklearn.ensemble import RandomForestClassifier\n",
    "#     from sklearn.metrics import roc_auc_score\n",
    "    \n",
    "    num_rows = len(array1d)/len(column_names) \n",
    "    return 'model'\n",
    "    return np.ones(num_rows)\n",
    "#     array2D = np.reshape(array1D, (num_rows, len(column_names)))\n",
    "#     X = pd.DataFrame(array2D, columns = column_names)\n",
    "#     y = dep1D\n",
    "    \n",
    "#     cl = RandomForestClassifier()\n",
    "#     cl.fit(X,y)\n",
    "#     y_pred = cl.predict_proba(X)[:,1]\n",
    "#     return roc_auc_score(y, y_pred)"
   ]
  },
  {
   "cell_type": "code",
   "execution_count": 54,
   "metadata": {
    "collapsed": true
   },
   "outputs": [],
   "source": [
    "input_table = 'training_array'\n",
    "hyperparam_table = 'hyperparameters'\n",
    "output_table = 'hyperparameter_tuning_models'"
   ]
  },
  {
   "cell_type": "code",
   "execution_count": 72,
   "metadata": {
    "collapsed": false
   },
   "outputs": [
    {
     "name": "stdout",
     "output_type": "stream",
     "text": [
      "Query started at 11:34:06 AM EDT\n",
      "Query executed in 0.00 m\n"
     ]
    },
    {
     "data": {
      "text/html": [
       "<a id=\"1499873646\"></a>\n",
       "\n",
       "        <script>\n",
       "        function notifyMe() {\n",
       "          if (Notification.permission !== \"granted\")\n",
       "            Notification.requestPermission();\n",
       "          else {\n",
       "            var notification = new Notification('Query Finished in 0.00 m', {\n",
       "              icon: 'https://raw.githubusercontent.com/crawles/Logos/master/jupyter.png?raw=true',\n",
       "              body: \"11:34:06 AM EDT\\n\\nName: None\\nDimensions: None\",\n",
       "            });\n",
       "\n",
       "            notification.onclick = function () {\n",
       "              document.getElementById('1499873646').scrollIntoView();\n",
       "            };\n",
       "\n",
       "          }\n",
       "        }\n",
       "        // prevents notifications from popping up when notebook is re-opened\n",
       "        if (Date.now() < 1.49987364778e+12) {\n",
       "        notifyMe(); };\n",
       "        </script>\n",
       "        "
      ],
      "text/plain": [
       "<IPython.core.display.HTML object>"
      ]
     },
     "execution_count": 72,
     "metadata": {},
     "output_type": "execute_result"
    },
    {
     "name": "stdout",
     "output_type": "stream",
     "text": [
      "Query started at 11:34:06 AM EDT\n",
      "Query executed in 0.17 m\n"
     ]
    },
    {
     "data": {
      "text/html": [
       "<a id=\"1499873657\"></a>\n",
       "\n",
       "        <script>\n",
       "        function notifyMe() {\n",
       "          if (Notification.permission !== \"granted\")\n",
       "            Notification.requestPermission();\n",
       "          else {\n",
       "            var notification = new Notification('Query Finished in 0.17 m', {\n",
       "              icon: 'https://raw.githubusercontent.com/crawles/Logos/master/jupyter.png?raw=true',\n",
       "              body: \"11:34:17 AM EDT\\n\\nName: None\\nDimensions: None\",\n",
       "            });\n",
       "\n",
       "            notification.onclick = function () {\n",
       "              document.getElementById('1499873657').scrollIntoView();\n",
       "            };\n",
       "\n",
       "          }\n",
       "        }\n",
       "        // prevents notifications from popping up when notebook is re-opened\n",
       "        if (Date.now() < 1.49987365823e+12) {\n",
       "        notifyMe(); };\n",
       "        </script>\n",
       "        "
      ],
      "text/plain": [
       "<IPython.core.display.HTML object>"
      ]
     },
     "execution_count": 72,
     "metadata": {},
     "output_type": "execute_result"
    },
    {
     "data": {
      "text/plain": [
       "<sql_magic.exceptions.EmptyResult at 0x10eeb4f50>"
      ]
     },
     "execution_count": 72,
     "metadata": {},
     "output_type": "execute_result"
    }
   ],
   "source": [
    "%%read_sql\n",
    "DROP TABLE IF EXISTS hyperparameter_tuning_models;\n",
    "CREATE TABLE hyperparameter_tuning_models\n",
    "AS\n",
    "SELECT b.model_id, \n",
    "       rf_train_tune(features::float[],\n",
    "                     array{feature_formatted}::text[],\n",
    "                     wnv_present::int[], 'id',\n",
    "                     b.num_trees,\n",
    "                     b.max_depth,\n",
    "                     b.max_features) AS model_obj\n",
    "FROM {input_table} a, hyperparameters b;"
   ]
  },
  {
   "cell_type": "code",
   "execution_count": 63,
   "metadata": {
    "collapsed": true
   },
   "outputs": [
    {
     "name": "stdout",
     "output_type": "stream",
     "text": [
      "Query started at 05:32:20 PM EDT\n",
      "Query executed in 0.00 m\n"
     ]
    },
    {
     "data": {
      "text/html": [
       "<div>\n",
       "<table border=\"1\" class=\"dataframe\">\n",
       "  <thead>\n",
       "    <tr style=\"text-align: right;\">\n",
       "      <th></th>\n",
       "      <th>model_id</th>\n",
       "      <th>model_obj</th>\n",
       "    </tr>\n",
       "  </thead>\n",
       "  <tbody>\n",
       "    <tr>\n",
       "      <th>0</th>\n",
       "      <td>1</td>\n",
       "      <td>[m, o, d, e, l]</td>\n",
       "    </tr>\n",
       "    <tr>\n",
       "      <th>1</th>\n",
       "      <td>2</td>\n",
       "      <td>[m, o, d, e, l]</td>\n",
       "    </tr>\n",
       "    <tr>\n",
       "      <th>2</th>\n",
       "      <td>3</td>\n",
       "      <td>[m, o, d, e, l]</td>\n",
       "    </tr>\n",
       "    <tr>\n",
       "      <th>3</th>\n",
       "      <td>4</td>\n",
       "      <td>[m, o, d, e, l]</td>\n",
       "    </tr>\n",
       "    <tr>\n",
       "      <th>4</th>\n",
       "      <td>5</td>\n",
       "      <td>[m, o, d, e, l]</td>\n",
       "    </tr>\n",
       "    <tr>\n",
       "      <th>5</th>\n",
       "      <td>6</td>\n",
       "      <td>[m, o, d, e, l]</td>\n",
       "    </tr>\n",
       "    <tr>\n",
       "      <th>6</th>\n",
       "      <td>7</td>\n",
       "      <td>[m, o, d, e, l]</td>\n",
       "    </tr>\n",
       "    <tr>\n",
       "      <th>7</th>\n",
       "      <td>8</td>\n",
       "      <td>[m, o, d, e, l]</td>\n",
       "    </tr>\n",
       "    <tr>\n",
       "      <th>8</th>\n",
       "      <td>9</td>\n",
       "      <td>[m, o, d, e, l]</td>\n",
       "    </tr>\n",
       "    <tr>\n",
       "      <th>9</th>\n",
       "      <td>10</td>\n",
       "      <td>[m, o, d, e, l]</td>\n",
       "    </tr>\n",
       "    <tr>\n",
       "      <th>10</th>\n",
       "      <td>11</td>\n",
       "      <td>[m, o, d, e, l]</td>\n",
       "    </tr>\n",
       "    <tr>\n",
       "      <th>11</th>\n",
       "      <td>12</td>\n",
       "      <td>[m, o, d, e, l]</td>\n",
       "    </tr>\n",
       "    <tr>\n",
       "      <th>12</th>\n",
       "      <td>13</td>\n",
       "      <td>[m, o, d, e, l]</td>\n",
       "    </tr>\n",
       "    <tr>\n",
       "      <th>13</th>\n",
       "      <td>14</td>\n",
       "      <td>[m, o, d, e, l]</td>\n",
       "    </tr>\n",
       "    <tr>\n",
       "      <th>14</th>\n",
       "      <td>15</td>\n",
       "      <td>[m, o, d, e, l]</td>\n",
       "    </tr>\n",
       "    <tr>\n",
       "      <th>15</th>\n",
       "      <td>16</td>\n",
       "      <td>[m, o, d, e, l]</td>\n",
       "    </tr>\n",
       "    <tr>\n",
       "      <th>16</th>\n",
       "      <td>17</td>\n",
       "      <td>[m, o, d, e, l]</td>\n",
       "    </tr>\n",
       "    <tr>\n",
       "      <th>17</th>\n",
       "      <td>18</td>\n",
       "      <td>[m, o, d, e, l]</td>\n",
       "    </tr>\n",
       "    <tr>\n",
       "      <th>18</th>\n",
       "      <td>19</td>\n",
       "      <td>[m, o, d, e, l]</td>\n",
       "    </tr>\n",
       "    <tr>\n",
       "      <th>19</th>\n",
       "      <td>20</td>\n",
       "      <td>[m, o, d, e, l]</td>\n",
       "    </tr>\n",
       "    <tr>\n",
       "      <th>20</th>\n",
       "      <td>21</td>\n",
       "      <td>[m, o, d, e, l]</td>\n",
       "    </tr>\n",
       "    <tr>\n",
       "      <th>21</th>\n",
       "      <td>22</td>\n",
       "      <td>[m, o, d, e, l]</td>\n",
       "    </tr>\n",
       "    <tr>\n",
       "      <th>22</th>\n",
       "      <td>23</td>\n",
       "      <td>[m, o, d, e, l]</td>\n",
       "    </tr>\n",
       "    <tr>\n",
       "      <th>23</th>\n",
       "      <td>24</td>\n",
       "      <td>[m, o, d, e, l]</td>\n",
       "    </tr>\n",
       "    <tr>\n",
       "      <th>24</th>\n",
       "      <td>25</td>\n",
       "      <td>[m, o, d, e, l]</td>\n",
       "    </tr>\n",
       "    <tr>\n",
       "      <th>25</th>\n",
       "      <td>26</td>\n",
       "      <td>[m, o, d, e, l]</td>\n",
       "    </tr>\n",
       "    <tr>\n",
       "      <th>26</th>\n",
       "      <td>27</td>\n",
       "      <td>[m, o, d, e, l]</td>\n",
       "    </tr>\n",
       "    <tr>\n",
       "      <th>27</th>\n",
       "      <td>28</td>\n",
       "      <td>[m, o, d, e, l]</td>\n",
       "    </tr>\n",
       "    <tr>\n",
       "      <th>28</th>\n",
       "      <td>29</td>\n",
       "      <td>[m, o, d, e, l]</td>\n",
       "    </tr>\n",
       "    <tr>\n",
       "      <th>29</th>\n",
       "      <td>30</td>\n",
       "      <td>[m, o, d, e, l]</td>\n",
       "    </tr>\n",
       "    <tr>\n",
       "      <th>...</th>\n",
       "      <td>...</td>\n",
       "      <td>...</td>\n",
       "    </tr>\n",
       "    <tr>\n",
       "      <th>3970</th>\n",
       "      <td>3971</td>\n",
       "      <td>[m, o, d, e, l]</td>\n",
       "    </tr>\n",
       "    <tr>\n",
       "      <th>3971</th>\n",
       "      <td>3972</td>\n",
       "      <td>[m, o, d, e, l]</td>\n",
       "    </tr>\n",
       "    <tr>\n",
       "      <th>3972</th>\n",
       "      <td>3973</td>\n",
       "      <td>[m, o, d, e, l]</td>\n",
       "    </tr>\n",
       "    <tr>\n",
       "      <th>3973</th>\n",
       "      <td>3974</td>\n",
       "      <td>[m, o, d, e, l]</td>\n",
       "    </tr>\n",
       "    <tr>\n",
       "      <th>3974</th>\n",
       "      <td>3975</td>\n",
       "      <td>[m, o, d, e, l]</td>\n",
       "    </tr>\n",
       "    <tr>\n",
       "      <th>3975</th>\n",
       "      <td>3976</td>\n",
       "      <td>[m, o, d, e, l]</td>\n",
       "    </tr>\n",
       "    <tr>\n",
       "      <th>3976</th>\n",
       "      <td>3977</td>\n",
       "      <td>[m, o, d, e, l]</td>\n",
       "    </tr>\n",
       "    <tr>\n",
       "      <th>3977</th>\n",
       "      <td>3978</td>\n",
       "      <td>[m, o, d, e, l]</td>\n",
       "    </tr>\n",
       "    <tr>\n",
       "      <th>3978</th>\n",
       "      <td>3979</td>\n",
       "      <td>[m, o, d, e, l]</td>\n",
       "    </tr>\n",
       "    <tr>\n",
       "      <th>3979</th>\n",
       "      <td>3980</td>\n",
       "      <td>[m, o, d, e, l]</td>\n",
       "    </tr>\n",
       "    <tr>\n",
       "      <th>3980</th>\n",
       "      <td>3981</td>\n",
       "      <td>[m, o, d, e, l]</td>\n",
       "    </tr>\n",
       "    <tr>\n",
       "      <th>3981</th>\n",
       "      <td>3982</td>\n",
       "      <td>[m, o, d, e, l]</td>\n",
       "    </tr>\n",
       "    <tr>\n",
       "      <th>3982</th>\n",
       "      <td>3983</td>\n",
       "      <td>[m, o, d, e, l]</td>\n",
       "    </tr>\n",
       "    <tr>\n",
       "      <th>3983</th>\n",
       "      <td>3984</td>\n",
       "      <td>[m, o, d, e, l]</td>\n",
       "    </tr>\n",
       "    <tr>\n",
       "      <th>3984</th>\n",
       "      <td>3985</td>\n",
       "      <td>[m, o, d, e, l]</td>\n",
       "    </tr>\n",
       "    <tr>\n",
       "      <th>3985</th>\n",
       "      <td>3986</td>\n",
       "      <td>[m, o, d, e, l]</td>\n",
       "    </tr>\n",
       "    <tr>\n",
       "      <th>3986</th>\n",
       "      <td>3987</td>\n",
       "      <td>[m, o, d, e, l]</td>\n",
       "    </tr>\n",
       "    <tr>\n",
       "      <th>3987</th>\n",
       "      <td>3988</td>\n",
       "      <td>[m, o, d, e, l]</td>\n",
       "    </tr>\n",
       "    <tr>\n",
       "      <th>3988</th>\n",
       "      <td>3989</td>\n",
       "      <td>[m, o, d, e, l]</td>\n",
       "    </tr>\n",
       "    <tr>\n",
       "      <th>3989</th>\n",
       "      <td>3990</td>\n",
       "      <td>[m, o, d, e, l]</td>\n",
       "    </tr>\n",
       "    <tr>\n",
       "      <th>3990</th>\n",
       "      <td>3991</td>\n",
       "      <td>[m, o, d, e, l]</td>\n",
       "    </tr>\n",
       "    <tr>\n",
       "      <th>3991</th>\n",
       "      <td>3992</td>\n",
       "      <td>[m, o, d, e, l]</td>\n",
       "    </tr>\n",
       "    <tr>\n",
       "      <th>3992</th>\n",
       "      <td>3993</td>\n",
       "      <td>[m, o, d, e, l]</td>\n",
       "    </tr>\n",
       "    <tr>\n",
       "      <th>3993</th>\n",
       "      <td>3994</td>\n",
       "      <td>[m, o, d, e, l]</td>\n",
       "    </tr>\n",
       "    <tr>\n",
       "      <th>3994</th>\n",
       "      <td>3995</td>\n",
       "      <td>[m, o, d, e, l]</td>\n",
       "    </tr>\n",
       "    <tr>\n",
       "      <th>3995</th>\n",
       "      <td>3996</td>\n",
       "      <td>[m, o, d, e, l]</td>\n",
       "    </tr>\n",
       "    <tr>\n",
       "      <th>3996</th>\n",
       "      <td>3997</td>\n",
       "      <td>[m, o, d, e, l]</td>\n",
       "    </tr>\n",
       "    <tr>\n",
       "      <th>3997</th>\n",
       "      <td>3998</td>\n",
       "      <td>[m, o, d, e, l]</td>\n",
       "    </tr>\n",
       "    <tr>\n",
       "      <th>3998</th>\n",
       "      <td>3999</td>\n",
       "      <td>[m, o, d, e, l]</td>\n",
       "    </tr>\n",
       "    <tr>\n",
       "      <th>3999</th>\n",
       "      <td>4000</td>\n",
       "      <td>[m, o, d, e, l]</td>\n",
       "    </tr>\n",
       "  </tbody>\n",
       "</table>\n",
       "<p>4000 rows × 2 columns</p>\n",
       "</div>"
      ],
      "text/plain": [
       "      model_id        model_obj\n",
       "0            1  [m, o, d, e, l]\n",
       "1            2  [m, o, d, e, l]\n",
       "2            3  [m, o, d, e, l]\n",
       "3            4  [m, o, d, e, l]\n",
       "4            5  [m, o, d, e, l]\n",
       "5            6  [m, o, d, e, l]\n",
       "6            7  [m, o, d, e, l]\n",
       "7            8  [m, o, d, e, l]\n",
       "8            9  [m, o, d, e, l]\n",
       "9           10  [m, o, d, e, l]\n",
       "10          11  [m, o, d, e, l]\n",
       "11          12  [m, o, d, e, l]\n",
       "12          13  [m, o, d, e, l]\n",
       "13          14  [m, o, d, e, l]\n",
       "14          15  [m, o, d, e, l]\n",
       "15          16  [m, o, d, e, l]\n",
       "16          17  [m, o, d, e, l]\n",
       "17          18  [m, o, d, e, l]\n",
       "18          19  [m, o, d, e, l]\n",
       "19          20  [m, o, d, e, l]\n",
       "20          21  [m, o, d, e, l]\n",
       "21          22  [m, o, d, e, l]\n",
       "22          23  [m, o, d, e, l]\n",
       "23          24  [m, o, d, e, l]\n",
       "24          25  [m, o, d, e, l]\n",
       "25          26  [m, o, d, e, l]\n",
       "26          27  [m, o, d, e, l]\n",
       "27          28  [m, o, d, e, l]\n",
       "28          29  [m, o, d, e, l]\n",
       "29          30  [m, o, d, e, l]\n",
       "...        ...              ...\n",
       "3970      3971  [m, o, d, e, l]\n",
       "3971      3972  [m, o, d, e, l]\n",
       "3972      3973  [m, o, d, e, l]\n",
       "3973      3974  [m, o, d, e, l]\n",
       "3974      3975  [m, o, d, e, l]\n",
       "3975      3976  [m, o, d, e, l]\n",
       "3976      3977  [m, o, d, e, l]\n",
       "3977      3978  [m, o, d, e, l]\n",
       "3978      3979  [m, o, d, e, l]\n",
       "3979      3980  [m, o, d, e, l]\n",
       "3980      3981  [m, o, d, e, l]\n",
       "3981      3982  [m, o, d, e, l]\n",
       "3982      3983  [m, o, d, e, l]\n",
       "3983      3984  [m, o, d, e, l]\n",
       "3984      3985  [m, o, d, e, l]\n",
       "3985      3986  [m, o, d, e, l]\n",
       "3986      3987  [m, o, d, e, l]\n",
       "3987      3988  [m, o, d, e, l]\n",
       "3988      3989  [m, o, d, e, l]\n",
       "3989      3990  [m, o, d, e, l]\n",
       "3990      3991  [m, o, d, e, l]\n",
       "3991      3992  [m, o, d, e, l]\n",
       "3992      3993  [m, o, d, e, l]\n",
       "3993      3994  [m, o, d, e, l]\n",
       "3994      3995  [m, o, d, e, l]\n",
       "3995      3996  [m, o, d, e, l]\n",
       "3996      3997  [m, o, d, e, l]\n",
       "3997      3998  [m, o, d, e, l]\n",
       "3998      3999  [m, o, d, e, l]\n",
       "3999      4000  [m, o, d, e, l]\n",
       "\n",
       "[4000 rows x 2 columns]"
      ]
     },
     "execution_count": 63,
     "metadata": {},
     "output_type": "execute_result"
    }
   ],
   "source": [
    "%read_sql SELECT * FROM {output_table}"
   ]
  },
  {
   "cell_type": "markdown",
   "metadata": {},
   "source": [
    "# Tune Logistic Regression"
   ]
  },
  {
   "cell_type": "code",
   "execution_count": null,
   "metadata": {
    "collapsed": true
   },
   "outputs": [],
   "source": []
  },
  {
   "cell_type": "markdown",
   "metadata": {},
   "source": [
    "# MADlib"
   ]
  },
  {
   "cell_type": "code",
   "execution_count": null,
   "metadata": {
    "collapsed": true
   },
   "outputs": [],
   "source": []
  }
 ],
 "metadata": {
  "anaconda-cloud": {},
  "kernelspec": {
   "display_name": "Python 2",
   "language": "python",
   "name": "python2"
  },
  "language_info": {
   "codemirror_mode": {
    "name": "ipython",
    "version": 2
   },
   "file_extension": ".py",
   "mimetype": "text/x-python",
   "name": "python",
   "nbconvert_exporter": "python",
   "pygments_lexer": "ipython2",
   "version": "2.7.12"
  },
  "nav_menu": {},
  "toc": {
   "navigate_menu": true,
   "number_sections": true,
   "sideBar": true,
   "threshold": 6,
   "toc_cell": false,
   "toc_section_display": "block",
   "toc_window_display": true
  }
 },
 "nbformat": 4,
 "nbformat_minor": 2
}
